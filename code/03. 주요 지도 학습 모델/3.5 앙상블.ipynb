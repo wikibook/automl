{
 "cells": [
  {
   "cell_type": "markdown",
   "id": "670e817e",
   "metadata": {},
   "source": [
    "#### 랜덤 포레스트"
   ]
  },
  {
   "cell_type": "code",
   "execution_count": 3,
   "id": "a0d5438b",
   "metadata": {},
   "outputs": [],
   "source": [
    "import pandas as pd\n",
    "from sklearn.model_selection import train_test_split\n",
    "\n",
    "df1 = pd.read_csv(\"../../data/classification/optdigits.csv\")\n",
    "df2 = pd.read_csv(\"../../data/regression/baseball.csv\")\n",
    "\n",
    "X1 = df1.drop('y', axis = 1)\n",
    "y1 = df1['y']\n",
    "X1_train, X1_test, y1_train, y1_test = train_test_split(X1, y1, random_state = 2022)\n",
    "\n",
    "X2 = df2.drop('y', axis = 1)\n",
    "y2 = df2['y']\n",
    "X2_train, X2_test, y2_train, y2_test = train_test_split(X2, y2, random_state = 2022)"
   ]
  },
  {
   "cell_type": "code",
   "execution_count": 8,
   "id": "83de9041",
   "metadata": {},
   "outputs": [],
   "source": [
    "from sklearn.tree import DecisionTreeClassifier as DTC, DecisionTreeRegressor as DTR\n",
    "from sklearn.ensemble import RandomForestClassifier as RFC, RandomForestRegressor as RFR\n",
    "from sklearn.metrics import *"
   ]
  },
  {
   "cell_type": "code",
   "execution_count": 23,
   "id": "593294d6",
   "metadata": {},
   "outputs": [
    {
     "name": "stdout",
     "output_type": "stream",
     "text": [
      "0.8811387900355871 0.9423487544483986\n"
     ]
    }
   ],
   "source": [
    "dtc = DTC(max_depth = 10, random_state = 2022).fit(X1_train, y1_train)\n",
    "rfc = RFC(max_depth = 5, random_state = 2022).fit(X1_train, y1_train)\n",
    "\n",
    "dtc_pred = dtc.predict(X1_test)\n",
    "rfc_pred = rfc.predict(X1_test)\n",
    "\n",
    "dtc_acc = accuracy_score(y1_test, dtc_pred)\n",
    "rfc_acc = accuracy_score(y1_test, rfc_pred)\n",
    "print(dtc_acc, rfc_acc)"
   ]
  },
  {
   "cell_type": "code",
   "execution_count": 24,
   "id": "12a1e4a9",
   "metadata": {},
   "outputs": [
    {
     "name": "stdout",
     "output_type": "stream",
     "text": [
      "DecisionTreeClassifier(max_depth=5, max_features='auto', random_state=40194941)\n",
      "DecisionTreeClassifier(max_depth=5, max_features='auto', random_state=101951500)\n"
     ]
    }
   ],
   "source": [
    "print(rfc[0])\n",
    "print(rfc[50])"
   ]
  },
  {
   "cell_type": "code",
   "execution_count": 27,
   "id": "571dcb2e",
   "metadata": {},
   "outputs": [
    {
     "name": "stdout",
     "output_type": "stream",
     "text": [
      "579.9513012477719 530.4179945238225\n"
     ]
    }
   ],
   "source": [
    "dtr = DTR(max_depth = 10, random_state = 2022).fit(X2_train, y2_train)\n",
    "rfr = RFR(max_depth = 5, random_state = 2022).fit(X2_train, y2_train)\n",
    "\n",
    "dtr_pred = dtr.predict(X2_test)\n",
    "rfr_pred = rfr.predict(X2_test)\n",
    "\n",
    "dtr_mae = mean_absolute_error(y2_test, dtr_pred)\n",
    "rfr_mae = mean_absolute_error(y2_test, rfr_pred)\n",
    "print(dtr_mae, rfr_mae)"
   ]
  },
  {
   "cell_type": "markdown",
   "id": "712e75ee",
   "metadata": {},
   "source": [
    "#### XGBoost"
   ]
  },
  {
   "cell_type": "code",
   "execution_count": 38,
   "id": "ee0d0c1f",
   "metadata": {},
   "outputs": [
    {
     "name": "stderr",
     "output_type": "stream",
     "text": [
      "C:\\Users\\Gilseung\\anaconda3\\lib\\site-packages\\xgboost\\sklearn.py:1224: UserWarning: The use of label encoder in XGBClassifier is deprecated and will be removed in a future release. To remove this warning, do the following: 1) Pass option use_label_encoder=False when constructing XGBClassifier object; and 2) Encode your labels (y) as integers starting with 0, i.e. 0, 1, 2, ..., [num_class - 1].\n",
      "  warnings.warn(label_encoder_deprecation_msg, UserWarning)\n"
     ]
    },
    {
     "name": "stdout",
     "output_type": "stream",
     "text": [
      "[13:14:27] WARNING: C:/Users/Administrator/workspace/xgboost-win64_release_1.5.1/src/learner.cc:1115: Starting in XGBoost 1.3.0, the default evaluation metric used with the objective 'multi:softprob' was changed from 'merror' to 'mlogloss'. Explicitly set eval_metric if you'd like to restore the old behavior.\n"
     ]
    }
   ],
   "source": [
    "from xgboost import XGBClassifier as XGBC, XGBRegressor as XGBR\n",
    "xgbc = XGBC(random_state=2022, learning_rate = 0.1, max_depth = 5).fit(X1_train, y1_train)\n",
    "xgbr = XGBR(random_state=2022, learning_rate = 0.1, max_depth = 5).fit(X2_train, y2_train)"
   ]
  },
  {
   "cell_type": "code",
   "execution_count": 39,
   "id": "f437a446",
   "metadata": {},
   "outputs": [
    {
     "name": "stdout",
     "output_type": "stream",
     "text": [
      "0.9779359430604982 561.5312666949104\n"
     ]
    }
   ],
   "source": [
    "xgbc_pred = xgbc.predict(X1_test)\n",
    "xgbr_pred = xgbr.predict(X2_test)\n",
    "\n",
    "acc = accuracy_score(xgbc_pred, y1_test)\n",
    "mae = mean_absolute_error(xgbr_pred, y2_test)\n",
    "print(acc, mae)"
   ]
  },
  {
   "cell_type": "markdown",
   "id": "ad21ead1",
   "metadata": {},
   "source": [
    "#### LightGBM"
   ]
  },
  {
   "cell_type": "code",
   "execution_count": 44,
   "id": "574245dd",
   "metadata": {},
   "outputs": [],
   "source": [
    "from lightgbm import LGBMClassifier as LGBC, LGBMRegressor as LGBR\n",
    "lgbc = LGBC(random_state=2022, learning_rate=0.1, num_leaves = 32).fit(X1_train, y1_train)\n",
    "lgbr = LGBR(random_state=2022, learning_rate=0.1, num_leaves = 32).fit(X2_train, y2_train)"
   ]
  },
  {
   "cell_type": "code",
   "execution_count": 45,
   "id": "ccb331f0",
   "metadata": {},
   "outputs": [
    {
     "name": "stdout",
     "output_type": "stream",
     "text": [
      "0.9814946619217082 572.6819576553671\n"
     ]
    }
   ],
   "source": [
    "lgbc_pred = lgbc.predict(X1_test)\n",
    "lgbr_pred = lgbr.predict(X2_test)\n",
    "\n",
    "acc = accuracy_score(lgbc_pred, y1_test)\n",
    "mae = mean_absolute_error(lgbr_pred, y2_test)\n",
    "print(acc, mae)"
   ]
  },
  {
   "cell_type": "code",
   "execution_count": null,
   "id": "3af84623",
   "metadata": {},
   "outputs": [],
   "source": []
  }
 ],
 "metadata": {
  "kernelspec": {
   "display_name": "Python 3",
   "language": "python",
   "name": "python3"
  },
  "language_info": {
   "codemirror_mode": {
    "name": "ipython",
    "version": 3
   },
   "file_extension": ".py",
   "mimetype": "text/x-python",
   "name": "python",
   "nbconvert_exporter": "python",
   "pygments_lexer": "ipython3",
   "version": "3.8.8"
  }
 },
 "nbformat": 4,
 "nbformat_minor": 5
}
