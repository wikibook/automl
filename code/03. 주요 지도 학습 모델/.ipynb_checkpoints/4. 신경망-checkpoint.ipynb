{
 "cells": [
  {
   "cell_type": "code",
   "execution_count": 10,
   "id": "f76c1d42",
   "metadata": {},
   "outputs": [],
   "source": [
    "import pandas as pd\n",
    "from sklearn.model_selection import train_test_split\n",
    "df = pd.read_csv(\"../../data/regression/puma32h.csv\")\n",
    "X = df.drop('y', axis = 1)\n",
    "y = df['y']\n",
    "X_train, X_test, y_train, y_test = train_test_split(X, y, random_state = 2022)"
   ]
  },
  {
   "cell_type": "markdown",
   "id": "41d8f85c",
   "metadata": {},
   "source": [
    "#### 기본"
   ]
  },
  {
   "cell_type": "code",
   "execution_count": 12,
   "id": "f89859d8",
   "metadata": {},
   "outputs": [
    {
     "name": "stdout",
     "output_type": "stream",
     "text": [
      "0.06037836487409957\n"
     ]
    }
   ],
   "source": [
    "from sklearn.neural_network import MLPRegressor as NN\n",
    "from sklearn.metrics import mean_absolute_error as MAE\n",
    "model = NN(random_state = 2022).fit(X_train, y_train)\n",
    "y_pred = model.predict(X_test)\n",
    "mae = MAE(y_test, y_pred)\n",
    "print(mae)"
   ]
  },
  {
   "cell_type": "markdown",
   "id": "1406bf55",
   "metadata": {},
   "source": [
    "#### 모델 구조 비교"
   ]
  },
  {
   "cell_type": "code",
   "execution_count": 14,
   "id": "37573432",
   "metadata": {},
   "outputs": [
    {
     "name": "stdout",
     "output_type": "stream",
     "text": [
      "0.0769324113849796 0.05711125441447522 0.08956654762313893\n"
     ]
    }
   ],
   "source": [
    "model1 = NN(hidden_layer_sizes = (5, ), random_state = 2022).fit(X_train, y_train)\n",
    "model2 = NN(hidden_layer_sizes = (10, 10), random_state = 2022).fit(X_train, y_train)\n",
    "model3 = NN(hidden_layer_sizes = (100, 100, 100), random_state = 2022).fit(X_train, y_train)\n",
    "\n",
    "y1_pred = model1.predict(X_test)\n",
    "y2_pred = model2.predict(X_test)\n",
    "y3_pred = model3.predict(X_test)\n",
    "\n",
    "mae1 = MAE(y_test, y1_pred)\n",
    "mae2 = MAE(y_test, y2_pred)\n",
    "mae3 = MAE(y_test, y3_pred)\n",
    "print(mae1, mae2, mae3)"
   ]
  },
  {
   "cell_type": "code",
   "execution_count": 17,
   "id": "0cd0ec7b",
   "metadata": {},
   "outputs": [
    {
     "name": "stdout",
     "output_type": "stream",
     "text": [
      "0.05044311790884906 0.04886901801873948 0.05072093415834021\n"
     ]
    }
   ],
   "source": [
    "model4 = NN(hidden_layer_sizes = (15, 15), random_state = 2022).fit(X_train, y_train)\n",
    "model5 = NN(hidden_layer_sizes = (10, 5), random_state = 2022).fit(X_train, y_train)\n",
    "model6 = NN(hidden_layer_sizes = (20, ), random_state = 2022).fit(X_train, y_train)\n",
    "\n",
    "y4_pred = model4.predict(X_test)\n",
    "y5_pred = model5.predict(X_test)\n",
    "y6_pred = model6.predict(X_test)\n",
    "\n",
    "mae4 = MAE(y_test, y4_pred)\n",
    "mae5 = MAE(y_test, y5_pred)\n",
    "mae6 = MAE(y_test, y6_pred)\n",
    "print(mae4, mae5, mae6)"
   ]
  },
  {
   "cell_type": "code",
   "execution_count": null,
   "id": "0d104172",
   "metadata": {},
   "outputs": [],
   "source": []
  },
  {
   "cell_type": "markdown",
   "id": "239ab4fd",
   "metadata": {},
   "source": [
    "#### 최대 이터레이션 횟수 설정"
   ]
  },
  {
   "cell_type": "code",
   "execution_count": 20,
   "id": "43e74bca",
   "metadata": {},
   "outputs": [
    {
     "name": "stdout",
     "output_type": "stream",
     "text": [
      "748.3964922052431\n"
     ]
    },
    {
     "name": "stderr",
     "output_type": "stream",
     "text": [
      "C:\\Users\\Gilseung\\anaconda3\\lib\\site-packages\\sklearn\\neural_network\\_multilayer_perceptron.py:614: ConvergenceWarning: Stochastic Optimizer: Maximum iterations (200) reached and the optimization hasn't converged yet.\n",
      "  warnings.warn(\n"
     ]
    }
   ],
   "source": [
    "df = pd.read_csv(\"../../data/regression/baseball.csv\")\n",
    "X = df.drop('y', axis = 1)\n",
    "y = df['y']\n",
    "X_train, X_test, y_train, y_test = train_test_split(X, y, random_state = 2022)\n",
    "\n",
    "model = NN(random_state = 2022).fit(X_train, y_train)\n",
    "y_pred = model.predict(X_test)\n",
    "mae = MAE(y_test, y_pred)\n",
    "print(mae)"
   ]
  },
  {
   "cell_type": "code",
   "execution_count": 21,
   "id": "f590905f",
   "metadata": {},
   "outputs": [
    {
     "name": "stdout",
     "output_type": "stream",
     "text": [
      "687.3320969527582\n"
     ]
    }
   ],
   "source": [
    "model = NN(random_state = 2022, max_iter = 10000).fit(X_train, y_train)\n",
    "y_pred = model.predict(X_test)\n",
    "mae = MAE(y_test, y_pred)\n",
    "print(mae)"
   ]
  }
 ],
 "metadata": {
  "kernelspec": {
   "display_name": "Python 3",
   "language": "python",
   "name": "python3"
  },
  "language_info": {
   "codemirror_mode": {
    "name": "ipython",
    "version": 3
   },
   "file_extension": ".py",
   "mimetype": "text/x-python",
   "name": "python",
   "nbconvert_exporter": "python",
   "pygments_lexer": "ipython3",
   "version": "3.8.8"
  }
 },
 "nbformat": 4,
 "nbformat_minor": 5
}
