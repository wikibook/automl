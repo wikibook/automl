{
 "cells": [
  {
   "cell_type": "markdown",
   "id": "0c116840",
   "metadata": {},
   "source": [
    "#### 최댓값과 최솟값 탐색 알고리즘 "
   ]
  },
  {
   "cell_type": "code",
   "execution_count": 1,
   "id": "4eb011f9",
   "metadata": {},
   "outputs": [
    {
     "name": "stdout",
     "output_type": "stream",
     "text": [
      "H3\n"
     ]
    }
   ],
   "source": [
    "import numpy as np\n",
    "def find_optimal_h(H, S):\n",
    "    idx = np.argmax(S)\n",
    "    return H[idx]\n",
    "\n",
    "H = [\"H1\", \"H2\", \"H3\", \"H4\", \"H5\"]\n",
    "S = [0.8, 0.7, 0.9, 0.6, 0.7]\n",
    "print(find_optimal_h(H, S))"
   ]
  },
  {
   "cell_type": "code",
   "execution_count": 2,
   "id": "87c51028",
   "metadata": {},
   "outputs": [
    {
     "name": "stdout",
     "output_type": "stream",
     "text": [
      "H3\n"
     ]
    }
   ],
   "source": [
    "def find_optimal_h_update(H, S):\n",
    "    current_max_value = -np.inf\n",
    "    for h, s in zip(H, S):\n",
    "        if s > current_max_value:\n",
    "            current_max_value = s\n",
    "            h_star = h\n",
    "    return h_star\n",
    "\n",
    "H = [\"H1\", \"H2\", \"H3\", \"H4\", \"H5\"]\n",
    "S = [0.8, 0.7, 0.9, 0.6, 0.7]\n",
    "print(find_optimal_h_update(H, S))"
   ]
  },
  {
   "cell_type": "markdown",
   "id": "2d965aa2",
   "metadata": {},
   "source": [
    "### 구현 실습"
   ]
  },
  {
   "cell_type": "code",
   "execution_count": 3,
   "id": "4c486b0b",
   "metadata": {},
   "outputs": [],
   "source": [
    "import pandas as pd\n",
    "df1 = pd.read_csv(\"../../data/classification/optdigits.csv\")\n",
    "df2 = pd.read_csv(\"../../data/regression/baseball.csv\")\n",
    "X1 = df1.drop('y', axis = 1)\n",
    "y1 = df1['y']\n",
    "X2 = df2.drop('y', axis = 1)\n",
    "y2 = df2['y']"
   ]
  },
  {
   "cell_type": "markdown",
   "id": "3cf78450",
   "metadata": {},
   "source": [
    "#### GridSearchCV 클래스"
   ]
  },
  {
   "cell_type": "code",
   "execution_count": 4,
   "id": "98cc1ec1",
   "metadata": {},
   "outputs": [],
   "source": [
    "grid = {\"n_neighbors\": [3, 5, 7],\n",
    "        \"metric\":[\"euclidean\", \"manhattan\"]}"
   ]
  },
  {
   "cell_type": "code",
   "execution_count": 5,
   "id": "f3e2db37",
   "metadata": {},
   "outputs": [],
   "source": [
    "from sklearn.model_selection import GridSearchCV\n",
    "from sklearn.neighbors import KNeighborsClassifier\n",
    "clf = GridSearchCV(estimator = KNeighborsClassifier(),\n",
    "                   cv = 5,\n",
    "                   param_grid = grid,\n",
    "                   scoring = \"accuracy\").fit(X1, y1)"
   ]
  },
  {
   "cell_type": "code",
   "execution_count": 6,
   "id": "26be8a38",
   "metadata": {},
   "outputs": [
    {
     "data": {
      "text/html": [
       "<div>\n",
       "<style scoped>\n",
       "    .dataframe tbody tr th:only-of-type {\n",
       "        vertical-align: middle;\n",
       "    }\n",
       "\n",
       "    .dataframe tbody tr th {\n",
       "        vertical-align: top;\n",
       "    }\n",
       "\n",
       "    .dataframe thead th {\n",
       "        text-align: right;\n",
       "    }\n",
       "</style>\n",
       "<table border=\"1\" class=\"dataframe\">\n",
       "  <thead>\n",
       "    <tr style=\"text-align: right;\">\n",
       "      <th></th>\n",
       "      <th>params</th>\n",
       "      <th>mean_test_score</th>\n",
       "      <th>mean_fit_time</th>\n",
       "    </tr>\n",
       "  </thead>\n",
       "  <tbody>\n",
       "    <tr>\n",
       "      <th>0</th>\n",
       "      <td>{'metric': 'euclidean', 'n_neighbors': 3}</td>\n",
       "      <td>0.982918</td>\n",
       "      <td>0.012633</td>\n",
       "    </tr>\n",
       "    <tr>\n",
       "      <th>1</th>\n",
       "      <td>{'metric': 'euclidean', 'n_neighbors': 5}</td>\n",
       "      <td>0.982562</td>\n",
       "      <td>0.009827</td>\n",
       "    </tr>\n",
       "    <tr>\n",
       "      <th>2</th>\n",
       "      <td>{'metric': 'euclidean', 'n_neighbors': 7}</td>\n",
       "      <td>0.983452</td>\n",
       "      <td>0.011631</td>\n",
       "    </tr>\n",
       "    <tr>\n",
       "      <th>3</th>\n",
       "      <td>{'metric': 'manhattan', 'n_neighbors': 3}</td>\n",
       "      <td>0.978470</td>\n",
       "      <td>0.013135</td>\n",
       "    </tr>\n",
       "    <tr>\n",
       "      <th>4</th>\n",
       "      <td>{'metric': 'manhattan', 'n_neighbors': 5}</td>\n",
       "      <td>0.978648</td>\n",
       "      <td>0.014038</td>\n",
       "    </tr>\n",
       "    <tr>\n",
       "      <th>5</th>\n",
       "      <td>{'metric': 'manhattan', 'n_neighbors': 7}</td>\n",
       "      <td>0.978292</td>\n",
       "      <td>0.009834</td>\n",
       "    </tr>\n",
       "  </tbody>\n",
       "</table>\n",
       "</div>"
      ],
      "text/plain": [
       "                                      params  mean_test_score  mean_fit_time\n",
       "0  {'metric': 'euclidean', 'n_neighbors': 3}         0.982918       0.012633\n",
       "1  {'metric': 'euclidean', 'n_neighbors': 5}         0.982562       0.009827\n",
       "2  {'metric': 'euclidean', 'n_neighbors': 7}         0.983452       0.011631\n",
       "3  {'metric': 'manhattan', 'n_neighbors': 3}         0.978470       0.013135\n",
       "4  {'metric': 'manhattan', 'n_neighbors': 5}         0.978648       0.014038\n",
       "5  {'metric': 'manhattan', 'n_neighbors': 7}         0.978292       0.009834"
      ]
     },
     "metadata": {},
     "output_type": "display_data"
    }
   ],
   "source": [
    "result = pd.DataFrame(clf.cv_results_)\n",
    "display(result[['params', 'mean_test_score', 'mean_fit_time']])"
   ]
  },
  {
   "cell_type": "code",
   "execution_count": 7,
   "id": "d94e0702",
   "metadata": {},
   "outputs": [
    {
     "name": "stdout",
     "output_type": "stream",
     "text": [
      "KNeighborsClassifier(metric='euclidean', n_neighbors=7)\n",
      "0.9834519572953736\n",
      "{'metric': 'euclidean', 'n_neighbors': 7}\n"
     ]
    }
   ],
   "source": [
    "print(clf.best_estimator_)\n",
    "print(clf.best_score_)\n",
    "print(clf.best_params_)"
   ]
  },
  {
   "cell_type": "code",
   "execution_count": 8,
   "id": "2e02686e",
   "metadata": {},
   "outputs": [
    {
     "data": {
      "text/plain": [
       "array([0, 0, 7, ..., 8, 9, 8], dtype=int64)"
      ]
     },
     "metadata": {},
     "output_type": "display_data"
    }
   ],
   "source": [
    "display(clf.best_estimator_.predict(X1))"
   ]
  },
  {
   "cell_type": "code",
   "execution_count": 9,
   "id": "075bf412",
   "metadata": {},
   "outputs": [
    {
     "data": {
      "text/html": [
       "<div>\n",
       "<style scoped>\n",
       "    .dataframe tbody tr th:only-of-type {\n",
       "        vertical-align: middle;\n",
       "    }\n",
       "\n",
       "    .dataframe tbody tr th {\n",
       "        vertical-align: top;\n",
       "    }\n",
       "\n",
       "    .dataframe thead th {\n",
       "        text-align: right;\n",
       "    }\n",
       "</style>\n",
       "<table border=\"1\" class=\"dataframe\">\n",
       "  <thead>\n",
       "    <tr style=\"text-align: right;\">\n",
       "      <th></th>\n",
       "      <th>params</th>\n",
       "      <th>mean_test_score</th>\n",
       "      <th>mean_fit_time</th>\n",
       "    </tr>\n",
       "  </thead>\n",
       "  <tbody>\n",
       "    <tr>\n",
       "      <th>0</th>\n",
       "      <td>{'metric': 'euclidean', 'n_neighbors': 3}</td>\n",
       "      <td>-666.301580</td>\n",
       "      <td>0.006617</td>\n",
       "    </tr>\n",
       "    <tr>\n",
       "      <th>1</th>\n",
       "      <td>{'metric': 'euclidean', 'n_neighbors': 5}</td>\n",
       "      <td>-651.092379</td>\n",
       "      <td>0.007016</td>\n",
       "    </tr>\n",
       "    <tr>\n",
       "      <th>2</th>\n",
       "      <td>{'metric': 'euclidean', 'n_neighbors': 7}</td>\n",
       "      <td>-653.397034</td>\n",
       "      <td>0.007620</td>\n",
       "    </tr>\n",
       "    <tr>\n",
       "      <th>3</th>\n",
       "      <td>{'metric': 'manhattan', 'n_neighbors': 3}</td>\n",
       "      <td>-693.410097</td>\n",
       "      <td>0.005615</td>\n",
       "    </tr>\n",
       "    <tr>\n",
       "      <th>4</th>\n",
       "      <td>{'metric': 'manhattan', 'n_neighbors': 5}</td>\n",
       "      <td>-655.554548</td>\n",
       "      <td>0.007318</td>\n",
       "    </tr>\n",
       "    <tr>\n",
       "      <th>5</th>\n",
       "      <td>{'metric': 'manhattan', 'n_neighbors': 7}</td>\n",
       "      <td>-644.461514</td>\n",
       "      <td>0.006417</td>\n",
       "    </tr>\n",
       "  </tbody>\n",
       "</table>\n",
       "</div>"
      ],
      "text/plain": [
       "                                      params  mean_test_score  mean_fit_time\n",
       "0  {'metric': 'euclidean', 'n_neighbors': 3}      -666.301580       0.006617\n",
       "1  {'metric': 'euclidean', 'n_neighbors': 5}      -651.092379       0.007016\n",
       "2  {'metric': 'euclidean', 'n_neighbors': 7}      -653.397034       0.007620\n",
       "3  {'metric': 'manhattan', 'n_neighbors': 3}      -693.410097       0.005615\n",
       "4  {'metric': 'manhattan', 'n_neighbors': 5}      -655.554548       0.007318\n",
       "5  {'metric': 'manhattan', 'n_neighbors': 7}      -644.461514       0.006417"
      ]
     },
     "metadata": {},
     "output_type": "display_data"
    }
   ],
   "source": [
    "from sklearn.neighbors import KNeighborsRegressor\n",
    "clf = GridSearchCV(estimator = KNeighborsRegressor(),\n",
    "                   cv = 5,\n",
    "                   param_grid = grid,\n",
    "                   scoring = \"neg_mean_absolute_error\").fit(X2, y2)\n",
    "\n",
    "result = pd.DataFrame(clf.cv_results_)\n",
    "display(result[['params', 'mean_test_score', 'mean_fit_time']])"
   ]
  },
  {
   "cell_type": "markdown",
   "id": "b37c8fa2",
   "metadata": {},
   "source": [
    "#### ParameterGrid 함수"
   ]
  },
  {
   "cell_type": "code",
   "execution_count": 10,
   "id": "339464b9",
   "metadata": {},
   "outputs": [
    {
     "name": "stdout",
     "output_type": "stream",
     "text": [
      "{'metric': 'euclidean', 'n_neighbors': 3}\n",
      "{'metric': 'euclidean', 'n_neighbors': 5}\n",
      "{'metric': 'euclidean', 'n_neighbors': 7}\n",
      "{'metric': 'manhattan', 'n_neighbors': 3}\n",
      "{'metric': 'manhattan', 'n_neighbors': 5}\n",
      "{'metric': 'manhattan', 'n_neighbors': 7}\n"
     ]
    }
   ],
   "source": [
    "from sklearn.model_selection import ParameterGrid\n",
    "for param in ParameterGrid(grid):\n",
    "    print(param)"
   ]
  },
  {
   "cell_type": "code",
   "execution_count": 11,
   "id": "e4dab4b3",
   "metadata": {},
   "outputs": [
    {
     "data": {
      "text/plain": [
       "KNeighborsClassifier(metric='euclidean', n_neighbors=3)"
      ]
     },
     "execution_count": 11,
     "metadata": {},
     "output_type": "execute_result"
    }
   ],
   "source": [
    "param = {\"metric\": \"euclidean\", \"n_neighbors\": 3}\n",
    "KNeighborsClassifier(**param)"
   ]
  },
  {
   "cell_type": "code",
   "execution_count": 12,
   "id": "c2838225",
   "metadata": {},
   "outputs": [],
   "source": [
    "from sklearn.metrics import *\n",
    "from sklearn.model_selection import KFold\n",
    "grid = ParameterGrid(grid)\n",
    "kf = KFold(n_splits = 5)\n",
    "best_score = -1\n",
    "for param in grid:\n",
    "    total_score = 0\n",
    "    for train_index, test_index in kf.split(X1):\n",
    "        X1_train = X1.loc[train_index] \n",
    "        X1_test = X1.loc[test_index]\n",
    "        y1_train = y1.loc[train_index]\n",
    "        y1_test = y1.loc[test_index]\n",
    "\n",
    "        model = KNeighborsClassifier(**param).fit(X1_train, y1_train)\n",
    "        y1_pred = model.predict(X1_test)\n",
    "        score = accuracy_score(y1_test, y1_pred)\n",
    "        total_score += score / 5\n",
    "    if total_score > best_score:\n",
    "        best_score = total_score\n",
    "        best_parameter = param"
   ]
  },
  {
   "cell_type": "code",
   "execution_count": 13,
   "id": "e202237a",
   "metadata": {},
   "outputs": [
    {
     "name": "stdout",
     "output_type": "stream",
     "text": [
      "{'metric': 'euclidean', 'n_neighbors': 7} 0.9830960854092526\n"
     ]
    }
   ],
   "source": [
    "print(best_parameter, best_score)"
   ]
  },
  {
   "cell_type": "code",
   "execution_count": 14,
   "id": "6742fb2a",
   "metadata": {},
   "outputs": [],
   "source": [
    "kf = KFold(n_splits = 5)\n",
    "best_score = np.inf\n",
    "for param in grid:\n",
    "    total_score = 0\n",
    "    for train_index, test_index in kf.split(X2):\n",
    "        X2_train = X2.loc[train_index] \n",
    "        X2_test = X2.loc[test_index]\n",
    "        y2_train = y2.loc[train_index]\n",
    "        y2_test = y2.loc[test_index]\n",
    "\n",
    "        model = KNeighborsClassifier(**param).fit(X2_train, y2_train)\n",
    "        y2_pred = model.predict(X2_test)\n",
    "        score = mean_absolute_error(y2_test, y2_pred)\n",
    "        total_score += score / 5\n",
    "    if total_score < best_score:\n",
    "        best_score = total_score\n",
    "        best_parameter = param"
   ]
  },
  {
   "cell_type": "code",
   "execution_count": 15,
   "id": "867754b5",
   "metadata": {},
   "outputs": [
    {
     "name": "stdout",
     "output_type": "stream",
     "text": [
      "{'metric': 'euclidean', 'n_neighbors': 3} 801.970237050044\n"
     ]
    }
   ],
   "source": [
    "print(best_parameter, best_score)"
   ]
  },
  {
   "cell_type": "markdown",
   "id": "d793de24",
   "metadata": {},
   "source": [
    "#### 모델 선택과 하이퍼 파라미터 최적화 문제로 확장"
   ]
  },
  {
   "cell_type": "code",
   "execution_count": 16,
   "id": "33a912e3",
   "metadata": {},
   "outputs": [],
   "source": [
    "rf_grid = {\"n_estimators\":[20, 50, 100, 200],\n",
    "           \"max_depth\": [3, 4, 5, 6, 7]}\n",
    "\n",
    "nn_grid = {\"hidden_layer_sizes\": [(10, 10), (20, 20), (30, 30), (20, 20, 20, 20)],\n",
    "           \"max_iter\": [1000, 10000]}"
   ]
  },
  {
   "cell_type": "code",
   "execution_count": 17,
   "id": "6e505422",
   "metadata": {},
   "outputs": [],
   "source": [
    "from sklearn.ensemble import RandomForestClassifier as RFC\n",
    "from sklearn.neural_network import MLPClassifier as MLP\n",
    "model_parameter_dict = {RFC:ParameterGrid(rf_grid), MLP:ParameterGrid(nn_grid)}"
   ]
  },
  {
   "cell_type": "code",
   "execution_count": 18,
   "id": "e24244ce",
   "metadata": {},
   "outputs": [],
   "source": [
    "kf = KFold(n_splits = 5)\n",
    "best_score = -1\n",
    "for model_class in model_parameter_dict.keys():\n",
    "    parameter_grid = model_parameter_dict[model_class]\n",
    "    for param in parameter_grid:\n",
    "        total_score = 0\n",
    "        for train_index, test_index in kf.split(X1):\n",
    "            X1_train = X1.loc[train_index] \n",
    "            X1_test = X1.loc[test_index]\n",
    "            y1_train = y1.loc[train_index]\n",
    "            y1_test = y1.loc[test_index]\n",
    "            model = model_class(**param).fit(X1_train, y1_train)\n",
    "            y1_pred = model.predict(X1_test)\n",
    "            score = accuracy_score(y1_test, y1_pred)\n",
    "            total_score += score / 5\n",
    "        if total_score > best_score:\n",
    "            best_score = total_score\n",
    "            best_parameter = param\n",
    "            best_model = model_class"
   ]
  },
  {
   "cell_type": "code",
   "execution_count": 19,
   "id": "ad00dfd2",
   "metadata": {},
   "outputs": [
    {
     "name": "stdout",
     "output_type": "stream",
     "text": [
      "<class 'sklearn.neural_network._multilayer_perceptron.MLPClassifier'> {'hidden_layer_sizes': (30, 30), 'max_iter': 1000} 0.9731316725978649\n"
     ]
    }
   ],
   "source": [
    "print(best_model, best_parameter, best_score)"
   ]
  }
 ],
 "metadata": {
  "kernelspec": {
   "display_name": "Python 3",
   "language": "python",
   "name": "python3"
  },
  "language_info": {
   "codemirror_mode": {
    "name": "ipython",
    "version": 3
   },
   "file_extension": ".py",
   "mimetype": "text/x-python",
   "name": "python",
   "nbconvert_exporter": "python",
   "pygments_lexer": "ipython3",
   "version": "3.8.8"
  }
 },
 "nbformat": 4,
 "nbformat_minor": 5
}
