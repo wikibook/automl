{
 "cells": [
  {
   "cell_type": "markdown",
   "id": "e8379653",
   "metadata": {},
   "source": [
    "#### 샘플링 함수"
   ]
  },
  {
   "cell_type": "code",
   "execution_count": 46,
   "id": "34ee021d",
   "metadata": {},
   "outputs": [
    {
     "name": "stdout",
     "output_type": "stream",
     "text": [
      "4\n"
     ]
    }
   ],
   "source": [
    "import numpy as np\n",
    "X = [1, 2, 3, 4, 5]\n",
    "s = np.random.choice(X)\n",
    "print(s)"
   ]
  },
  {
   "cell_type": "code",
   "execution_count": 47,
   "id": "83e54cf3",
   "metadata": {},
   "outputs": [
    {
     "name": "stdout",
     "output_type": "stream",
     "text": [
      "[4 8 8 7 9]\n"
     ]
    }
   ],
   "source": [
    "from scipy.stats import poisson\n",
    "poisson_rv = poisson(10)\n",
    "X = poisson_rv.rvs(5)\n",
    "print(X)"
   ]
  },
  {
   "cell_type": "code",
   "execution_count": 48,
   "id": "f5239021",
   "metadata": {},
   "outputs": [
    {
     "name": "stdout",
     "output_type": "stream",
     "text": [
      "[19.04748286 25.45156741 14.55717218 22.6474233  26.45716228 15.11677365\n",
      " 13.56747024 22.56724407 21.74957328 17.94179903]\n",
      "[  70.11776873  148.38559595 9657.54416968   17.58390487  193.7628786\n",
      " 6894.34262904   42.76057622 1675.86713148 4564.41491917 1009.24129753]\n"
     ]
    }
   ],
   "source": [
    "from scipy.stats import uniform, loguniform\n",
    "uni_rv = uniform(10, 20)\n",
    "log_uni_rv = loguniform(10, 10000)\n",
    "X1 = uni_rv.rvs(10)\n",
    "X2 = log_uni_rv.rvs(10)\n",
    "\n",
    "print(X1)\n",
    "print(X2)"
   ]
  },
  {
   "cell_type": "markdown",
   "id": "d1482370",
   "metadata": {},
   "source": [
    "#### RandomSearchCV 클래스"
   ]
  },
  {
   "cell_type": "code",
   "execution_count": 49,
   "id": "f9fd56d5",
   "metadata": {},
   "outputs": [],
   "source": [
    "dist = {\"max_features\":loguniform(0.5, 1),\n",
    "        \"max_depth\": range(3, 8),\n",
    "        \"criterion\":[\"gini\", \"entropy\"]}"
   ]
  },
  {
   "cell_type": "code",
   "execution_count": 50,
   "id": "fce2cc63",
   "metadata": {},
   "outputs": [],
   "source": [
    "import pandas as pd\n",
    "df = pd.read_csv(\"../../data/classification/movement_libras.csv\")\n",
    "X = df.drop('y', axis = 1)\n",
    "y = df['y']"
   ]
  },
  {
   "cell_type": "code",
   "execution_count": 51,
   "id": "41f65a42",
   "metadata": {},
   "outputs": [],
   "source": [
    "from sklearn.ensemble import RandomForestClassifier as RFC\n",
    "from sklearn.model_selection import RandomizedSearchCV\n",
    "clf = RandomizedSearchCV(RFC(random_state = 2022),\n",
    "                         dist,\n",
    "                         cv = 5,\n",
    "                         n_iter = 10,\n",
    "                         scoring = \"accuracy\",\n",
    "                         random_state=2022).fit(X, y)"
   ]
  },
  {
   "cell_type": "code",
   "execution_count": 52,
   "id": "c87b8b0c",
   "metadata": {},
   "outputs": [
    {
     "data": {
      "text/html": [
       "<div>\n",
       "<style scoped>\n",
       "    .dataframe tbody tr th:only-of-type {\n",
       "        vertical-align: middle;\n",
       "    }\n",
       "\n",
       "    .dataframe tbody tr th {\n",
       "        vertical-align: top;\n",
       "    }\n",
       "\n",
       "    .dataframe thead th {\n",
       "        text-align: right;\n",
       "    }\n",
       "</style>\n",
       "<table border=\"1\" class=\"dataframe\">\n",
       "  <thead>\n",
       "    <tr style=\"text-align: right;\">\n",
       "      <th></th>\n",
       "      <th>params</th>\n",
       "      <th>mean_test_score</th>\n",
       "      <th>mean_fit_time</th>\n",
       "    </tr>\n",
       "  </thead>\n",
       "  <tbody>\n",
       "    <tr>\n",
       "      <th>0</th>\n",
       "      <td>{'criterion': 'entropy', 'max_depth': 7, 'max_...</td>\n",
       "      <td>0.786111</td>\n",
       "      <td>2.867841</td>\n",
       "    </tr>\n",
       "    <tr>\n",
       "      <th>1</th>\n",
       "      <td>{'criterion': 'entropy', 'max_depth': 4, 'max_...</td>\n",
       "      <td>0.677778</td>\n",
       "      <td>1.705071</td>\n",
       "    </tr>\n",
       "    <tr>\n",
       "      <th>2</th>\n",
       "      <td>{'criterion': 'gini', 'max_depth': 5, 'max_fea...</td>\n",
       "      <td>0.736111</td>\n",
       "      <td>0.931867</td>\n",
       "    </tr>\n",
       "    <tr>\n",
       "      <th>3</th>\n",
       "      <td>{'criterion': 'entropy', 'max_depth': 4, 'max_...</td>\n",
       "      <td>0.697222</td>\n",
       "      <td>2.517144</td>\n",
       "    </tr>\n",
       "    <tr>\n",
       "      <th>4</th>\n",
       "      <td>{'criterion': 'entropy', 'max_depth': 6, 'max_...</td>\n",
       "      <td>0.783333</td>\n",
       "      <td>3.193398</td>\n",
       "    </tr>\n",
       "    <tr>\n",
       "      <th>5</th>\n",
       "      <td>{'criterion': 'gini', 'max_depth': 6, 'max_fea...</td>\n",
       "      <td>0.758333</td>\n",
       "      <td>1.203861</td>\n",
       "    </tr>\n",
       "    <tr>\n",
       "      <th>6</th>\n",
       "      <td>{'criterion': 'gini', 'max_depth': 3, 'max_fea...</td>\n",
       "      <td>0.597222</td>\n",
       "      <td>0.823997</td>\n",
       "    </tr>\n",
       "    <tr>\n",
       "      <th>7</th>\n",
       "      <td>{'criterion': 'gini', 'max_depth': 5, 'max_fea...</td>\n",
       "      <td>0.736111</td>\n",
       "      <td>0.952974</td>\n",
       "    </tr>\n",
       "    <tr>\n",
       "      <th>8</th>\n",
       "      <td>{'criterion': 'gini', 'max_depth': 4, 'max_fea...</td>\n",
       "      <td>0.697222</td>\n",
       "      <td>0.848706</td>\n",
       "    </tr>\n",
       "    <tr>\n",
       "      <th>9</th>\n",
       "      <td>{'criterion': 'entropy', 'max_depth': 4, 'max_...</td>\n",
       "      <td>0.683333</td>\n",
       "      <td>3.210292</td>\n",
       "    </tr>\n",
       "  </tbody>\n",
       "</table>\n",
       "</div>"
      ],
      "text/plain": [
       "                                              params  mean_test_score  \\\n",
       "0  {'criterion': 'entropy', 'max_depth': 7, 'max_...         0.786111   \n",
       "1  {'criterion': 'entropy', 'max_depth': 4, 'max_...         0.677778   \n",
       "2  {'criterion': 'gini', 'max_depth': 5, 'max_fea...         0.736111   \n",
       "3  {'criterion': 'entropy', 'max_depth': 4, 'max_...         0.697222   \n",
       "4  {'criterion': 'entropy', 'max_depth': 6, 'max_...         0.783333   \n",
       "5  {'criterion': 'gini', 'max_depth': 6, 'max_fea...         0.758333   \n",
       "6  {'criterion': 'gini', 'max_depth': 3, 'max_fea...         0.597222   \n",
       "7  {'criterion': 'gini', 'max_depth': 5, 'max_fea...         0.736111   \n",
       "8  {'criterion': 'gini', 'max_depth': 4, 'max_fea...         0.697222   \n",
       "9  {'criterion': 'entropy', 'max_depth': 4, 'max_...         0.683333   \n",
       "\n",
       "   mean_fit_time  \n",
       "0       2.867841  \n",
       "1       1.705071  \n",
       "2       0.931867  \n",
       "3       2.517144  \n",
       "4       3.193398  \n",
       "5       1.203861  \n",
       "6       0.823997  \n",
       "7       0.952974  \n",
       "8       0.848706  \n",
       "9       3.210292  "
      ]
     },
     "metadata": {},
     "output_type": "display_data"
    }
   ],
   "source": [
    "result = pd.DataFrame(clf.cv_results_)\n",
    "display(result[['params', 'mean_test_score', 'mean_fit_time']])"
   ]
  },
  {
   "cell_type": "code",
   "execution_count": 53,
   "id": "68d05aa0",
   "metadata": {},
   "outputs": [
    {
     "name": "stdout",
     "output_type": "stream",
     "text": [
      "RandomForestClassifier(criterion='entropy', max_depth=7,\n",
      "                       max_features=0.7066451376545405, random_state=2022)\n",
      "0.7861111111111111\n",
      "{'criterion': 'entropy', 'max_depth': 7, 'max_features': 0.7066451376545405}\n"
     ]
    }
   ],
   "source": [
    "print(clf.best_estimator_)\n",
    "print(clf.best_score_)\n",
    "print(clf.best_params_)"
   ]
  },
  {
   "cell_type": "markdown",
   "id": "dc1e391d",
   "metadata": {},
   "source": [
    "#### 직접 구현하기"
   ]
  },
  {
   "cell_type": "code",
   "execution_count": null,
   "id": "263bbae8",
   "metadata": {},
   "outputs": [],
   "source": [
    "from sklearn.metrics import *\n",
    "from sklearn.model_selection import KFold\n",
    "kf = KFold(n_splits = 5)\n",
    "best_score = -1\n",
    "num_iter = 10\n",
    "for _ in range(num_iter):\n",
    "    total_score = 0\n",
    "    for train_index, test_index in kf.split(X):\n",
    "        X_train = X.loc[train_index] \n",
    "        X_test = X.loc[test_index]\n",
    "        y_train = y.loc[train_index]\n",
    "        y_test = y.loc[test_index]\n",
    "        _max_features = loguniform(0.5, 1).rvs(1)[0]\n",
    "        _max_depth = np.random.choice(range(3, 8))\n",
    "        _criterion = np.random.choice([\"gini\", \"entropy\"])\n",
    "        \n",
    "        model = RFC(max_features = _max_features,\n",
    "                    max_depth = _max_depth,\n",
    "                    criterion = _criterion).fit(X_train, y_train)\n",
    "        y_pred = model.predict(X_test)\n",
    "        score = accuracy_score(y_test, y_pred)\n",
    "        total_score += score / 5\n",
    "    if total_score > best_score:\n",
    "        best_score = total_score\n",
    "        best_parameter = [_max_features, _max_depth, _criterion]"
   ]
  },
  {
   "cell_type": "code",
   "execution_count": 55,
   "id": "d3d785b2",
   "metadata": {},
   "outputs": [
    {
     "name": "stdout",
     "output_type": "stream",
     "text": [
      "[0.6994322394713137, 7, 'gini'] 0.7500000000000001\n"
     ]
    }
   ],
   "source": [
    "print(best_parameter, best_score)"
   ]
  },
  {
   "cell_type": "code",
   "execution_count": null,
   "id": "44881bf2",
   "metadata": {},
   "outputs": [],
   "source": []
  }
 ],
 "metadata": {
  "kernelspec": {
   "display_name": "Python 3",
   "language": "python",
   "name": "python3"
  },
  "language_info": {
   "codemirror_mode": {
    "name": "ipython",
    "version": 3
   },
   "file_extension": ".py",
   "mimetype": "text/x-python",
   "name": "python",
   "nbconvert_exporter": "python",
   "pygments_lexer": "ipython3",
   "version": "3.8.8"
  }
 },
 "nbformat": 4,
 "nbformat_minor": 5
}
