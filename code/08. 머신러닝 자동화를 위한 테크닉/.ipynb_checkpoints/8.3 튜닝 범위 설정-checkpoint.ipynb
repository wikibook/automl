{
 "cells": [
  {
   "cell_type": "markdown",
   "id": "7287e17c",
   "metadata": {},
   "source": [
    "### 반복측정 분산분석"
   ]
  },
  {
   "cell_type": "markdown",
   "id": "2862e8b7",
   "metadata": {},
   "source": [
    "#### statsmodels를 이용한 반복측정 분산분석"
   ]
  },
  {
   "cell_type": "code",
   "execution_count": 14,
   "id": "d0e4a058",
   "metadata": {},
   "outputs": [
    {
     "data": {
      "text/html": [
       "<div>\n",
       "<style scoped>\n",
       "    .dataframe tbody tr th:only-of-type {\n",
       "        vertical-align: middle;\n",
       "    }\n",
       "\n",
       "    .dataframe tbody tr th {\n",
       "        vertical-align: top;\n",
       "    }\n",
       "\n",
       "    .dataframe thead th {\n",
       "        text-align: right;\n",
       "    }\n",
       "</style>\n",
       "<table border=\"1\" class=\"dataframe\">\n",
       "  <thead>\n",
       "    <tr style=\"text-align: right;\">\n",
       "      <th></th>\n",
       "      <th>sub_id</th>\n",
       "      <th>y</th>\n",
       "      <th>x</th>\n",
       "    </tr>\n",
       "  </thead>\n",
       "  <tbody>\n",
       "    <tr>\n",
       "      <th>0</th>\n",
       "      <td>1</td>\n",
       "      <td>10</td>\n",
       "      <td>a</td>\n",
       "    </tr>\n",
       "    <tr>\n",
       "      <th>1</th>\n",
       "      <td>2</td>\n",
       "      <td>20</td>\n",
       "      <td>a</td>\n",
       "    </tr>\n",
       "    <tr>\n",
       "      <th>2</th>\n",
       "      <td>3</td>\n",
       "      <td>30</td>\n",
       "      <td>a</td>\n",
       "    </tr>\n",
       "    <tr>\n",
       "      <th>3</th>\n",
       "      <td>1</td>\n",
       "      <td>20</td>\n",
       "      <td>b</td>\n",
       "    </tr>\n",
       "    <tr>\n",
       "      <th>4</th>\n",
       "      <td>2</td>\n",
       "      <td>40</td>\n",
       "      <td>b</td>\n",
       "    </tr>\n",
       "    <tr>\n",
       "      <th>5</th>\n",
       "      <td>3</td>\n",
       "      <td>60</td>\n",
       "      <td>b</td>\n",
       "    </tr>\n",
       "    <tr>\n",
       "      <th>6</th>\n",
       "      <td>1</td>\n",
       "      <td>30</td>\n",
       "      <td>c</td>\n",
       "    </tr>\n",
       "    <tr>\n",
       "      <th>7</th>\n",
       "      <td>2</td>\n",
       "      <td>60</td>\n",
       "      <td>c</td>\n",
       "    </tr>\n",
       "    <tr>\n",
       "      <th>8</th>\n",
       "      <td>3</td>\n",
       "      <td>90</td>\n",
       "      <td>c</td>\n",
       "    </tr>\n",
       "  </tbody>\n",
       "</table>\n",
       "</div>"
      ],
      "text/plain": [
       "   sub_id   y  x\n",
       "0       1  10  a\n",
       "1       2  20  a\n",
       "2       3  30  a\n",
       "3       1  20  b\n",
       "4       2  40  b\n",
       "5       3  60  b\n",
       "6       1  30  c\n",
       "7       2  60  c\n",
       "8       3  90  c"
      ]
     },
     "metadata": {},
     "output_type": "display_data"
    }
   ],
   "source": [
    "data = pd.read_csv(\"AnovaRM_예제.csv\")\n",
    "display(data) "
   ]
  },
  {
   "cell_type": "code",
   "execution_count": 15,
   "id": "154fd003",
   "metadata": {},
   "outputs": [
    {
     "name": "stdout",
     "output_type": "stream",
     "text": [
      "            Anova\n",
      "==============================\n",
      "  F Value Num DF Den DF Pr > F\n",
      "------------------------------\n",
      "x 12.0000 2.0000 4.0000 0.0204\n",
      "==============================\n",
      "\n"
     ]
    }
   ],
   "source": [
    "from statsmodels.stats.anova import AnovaRM\n",
    "aovrm = AnovaRM(data, 'y', 'sub_id', within=['x'])\n",
    "res = aovrm.fit()\n",
    "print(res)"
   ]
  },
  {
   "cell_type": "code",
   "execution_count": 25,
   "id": "91ba297d",
   "metadata": {},
   "outputs": [
    {
     "data": {
      "text/html": [
       "<div>\n",
       "<style scoped>\n",
       "    .dataframe tbody tr th:only-of-type {\n",
       "        vertical-align: middle;\n",
       "    }\n",
       "\n",
       "    .dataframe tbody tr th {\n",
       "        vertical-align: top;\n",
       "    }\n",
       "\n",
       "    .dataframe thead th {\n",
       "        text-align: right;\n",
       "    }\n",
       "</style>\n",
       "<table border=\"1\" class=\"dataframe\">\n",
       "  <thead>\n",
       "    <tr style=\"text-align: right;\">\n",
       "      <th></th>\n",
       "      <th>F Value</th>\n",
       "      <th>Num DF</th>\n",
       "      <th>Den DF</th>\n",
       "      <th>Pr &gt; F</th>\n",
       "    </tr>\n",
       "  </thead>\n",
       "  <tbody>\n",
       "    <tr>\n",
       "      <th>x</th>\n",
       "      <td>12.0</td>\n",
       "      <td>2.0</td>\n",
       "      <td>4.0</td>\n",
       "      <td>0.020408</td>\n",
       "    </tr>\n",
       "  </tbody>\n",
       "</table>\n",
       "</div>"
      ],
      "text/plain": [
       "   F Value  Num DF  Den DF    Pr > F\n",
       "x     12.0     2.0     4.0  0.020408"
      ]
     },
     "metadata": {},
     "output_type": "display_data"
    }
   ],
   "source": [
    "display(res.__dict__['anova_table'])"
   ]
  },
  {
   "cell_type": "markdown",
   "id": "4a18f4eb",
   "metadata": {},
   "source": [
    "#### 실험 데이터 준비"
   ]
  },
  {
   "cell_type": "code",
   "execution_count": 1,
   "id": "c612ea2d",
   "metadata": {},
   "outputs": [],
   "source": [
    "import pandas as pd\n",
    "df = pd.read_csv(\"../../data/regression/mortgage.csv\")\n",
    "X = df.drop('y', axis = 1)\n",
    "y = df['y']"
   ]
  },
  {
   "cell_type": "code",
   "execution_count": 5,
   "id": "5fa4ba50",
   "metadata": {
    "scrolled": true
   },
   "outputs": [],
   "source": [
    "from lightgbm import LGBMRegressor as LGB\n",
    "from sklearn.model_selection import ParameterGrid, cross_val_score\n",
    "grid = ParameterGrid({\"n_estimators\":[50, 100, 150, 200],\n",
    "                      \"learning_rate\":[0.01, 0.05, 0.1, 0.3],\n",
    "                      \"num_leaves\":[2**3, 2**4, 2**5, 2**6],\n",
    "                      \"boosting_type\":[\"gbdt\", \"goss\"],\n",
    "                      \"random_state\":[2020, 2021, 2022, 2023],\n",
    "                      \"metric\":[\"mae\", \"mse\"],\n",
    "                      \"reg_alpha\":[0, 0.1, 1.0, 10],\n",
    "                      \"colsample_bytree\":[0.5, 0.7, 0.9]})\n",
    "\n",
    "score_list = []\n",
    "for param in grid:\n",
    "    score = (-cross_val_score(LGB(**param), X, y,\n",
    "                              scoring = \"neg_mean_absolute_error\")).mean()\n",
    "    score_list.append(score)"
   ]
  },
  {
   "cell_type": "code",
   "execution_count": 7,
   "id": "19b255e5",
   "metadata": {},
   "outputs": [
    {
     "data": {
      "text/html": [
       "<div>\n",
       "<style scoped>\n",
       "    .dataframe tbody tr th:only-of-type {\n",
       "        vertical-align: middle;\n",
       "    }\n",
       "\n",
       "    .dataframe tbody tr th {\n",
       "        vertical-align: top;\n",
       "    }\n",
       "\n",
       "    .dataframe thead th {\n",
       "        text-align: right;\n",
       "    }\n",
       "</style>\n",
       "<table border=\"1\" class=\"dataframe\">\n",
       "  <thead>\n",
       "    <tr style=\"text-align: right;\">\n",
       "      <th></th>\n",
       "      <th>boosting_type</th>\n",
       "      <th>colsample_bytree</th>\n",
       "      <th>learning_rate</th>\n",
       "      <th>metric</th>\n",
       "      <th>n_estimators</th>\n",
       "      <th>num_leaves</th>\n",
       "      <th>random_state</th>\n",
       "      <th>reg_alpha</th>\n",
       "      <th>score</th>\n",
       "    </tr>\n",
       "  </thead>\n",
       "  <tbody>\n",
       "    <tr>\n",
       "      <th>0</th>\n",
       "      <td>gbdt</td>\n",
       "      <td>0.5</td>\n",
       "      <td>0.01</td>\n",
       "      <td>mae</td>\n",
       "      <td>50</td>\n",
       "      <td>8</td>\n",
       "      <td>2020</td>\n",
       "      <td>0.0</td>\n",
       "      <td>1.499215</td>\n",
       "    </tr>\n",
       "    <tr>\n",
       "      <th>1</th>\n",
       "      <td>gbdt</td>\n",
       "      <td>0.5</td>\n",
       "      <td>0.01</td>\n",
       "      <td>mae</td>\n",
       "      <td>50</td>\n",
       "      <td>8</td>\n",
       "      <td>2020</td>\n",
       "      <td>0.1</td>\n",
       "      <td>1.499427</td>\n",
       "    </tr>\n",
       "    <tr>\n",
       "      <th>2</th>\n",
       "      <td>gbdt</td>\n",
       "      <td>0.5</td>\n",
       "      <td>0.01</td>\n",
       "      <td>mae</td>\n",
       "      <td>50</td>\n",
       "      <td>8</td>\n",
       "      <td>2020</td>\n",
       "      <td>1.0</td>\n",
       "      <td>1.502761</td>\n",
       "    </tr>\n",
       "    <tr>\n",
       "      <th>3</th>\n",
       "      <td>gbdt</td>\n",
       "      <td>0.5</td>\n",
       "      <td>0.01</td>\n",
       "      <td>mae</td>\n",
       "      <td>50</td>\n",
       "      <td>8</td>\n",
       "      <td>2020</td>\n",
       "      <td>10.0</td>\n",
       "      <td>1.523360</td>\n",
       "    </tr>\n",
       "    <tr>\n",
       "      <th>4</th>\n",
       "      <td>gbdt</td>\n",
       "      <td>0.5</td>\n",
       "      <td>0.01</td>\n",
       "      <td>mae</td>\n",
       "      <td>50</td>\n",
       "      <td>8</td>\n",
       "      <td>2021</td>\n",
       "      <td>0.0</td>\n",
       "      <td>1.499254</td>\n",
       "    </tr>\n",
       "  </tbody>\n",
       "</table>\n",
       "</div>"
      ],
      "text/plain": [
       "  boosting_type  colsample_bytree  learning_rate metric  n_estimators  \\\n",
       "0          gbdt               0.5           0.01    mae            50   \n",
       "1          gbdt               0.5           0.01    mae            50   \n",
       "2          gbdt               0.5           0.01    mae            50   \n",
       "3          gbdt               0.5           0.01    mae            50   \n",
       "4          gbdt               0.5           0.01    mae            50   \n",
       "\n",
       "   num_leaves  random_state  reg_alpha     score  \n",
       "0           8          2020        0.0  1.499215  \n",
       "1           8          2020        0.1  1.499427  \n",
       "2           8          2020        1.0  1.502761  \n",
       "3           8          2020       10.0  1.523360  \n",
       "4           8          2021        0.0  1.499254  "
      ]
     },
     "metadata": {},
     "output_type": "display_data"
    }
   ],
   "source": [
    "grid_search_data = pd.DataFrame(grid)\n",
    "grid_search_data['score'] = score_list\n",
    "display(grid_search_data.head())\n",
    "grid_search_data.to_csv(\"LightGBM_하이퍼파라미터선택_실험데이터.csv\", index = False)"
   ]
  },
  {
   "cell_type": "markdown",
   "id": "eee8705a",
   "metadata": {},
   "source": [
    "#### 주요 하이퍼 파라미터 식별"
   ]
  },
  {
   "cell_type": "code",
   "execution_count": 37,
   "id": "84818d75",
   "metadata": {},
   "outputs": [],
   "source": [
    "hyper_params = grid_search_data.columns[:-1].tolist()\n",
    "hyper_params.remove(\"boosting_type\")\n",
    "hyper_params.insert(0, \"boosting_type\")\n",
    "grid_search_data.sort_values(by = hyper_params, inplace = True)\n",
    "boosting_type_size = len(grid_search_data['boosting_type'].unique())\n",
    "num_ID = int(len(grid_search_data) / boosting_type_size)\n",
    "grid_search_data['subject_ID'] = list(range(num_ID)) * boosting_type_size"
   ]
  },
  {
   "cell_type": "code",
   "execution_count": 45,
   "id": "75f827fb",
   "metadata": {},
   "outputs": [
    {
     "data": {
      "text/html": [
       "<div>\n",
       "<style scoped>\n",
       "    .dataframe tbody tr th:only-of-type {\n",
       "        vertical-align: middle;\n",
       "    }\n",
       "\n",
       "    .dataframe tbody tr th {\n",
       "        vertical-align: top;\n",
       "    }\n",
       "\n",
       "    .dataframe thead th {\n",
       "        text-align: right;\n",
       "    }\n",
       "</style>\n",
       "<table border=\"1\" class=\"dataframe\">\n",
       "  <thead>\n",
       "    <tr style=\"text-align: right;\">\n",
       "      <th></th>\n",
       "      <th>F Value</th>\n",
       "      <th>Num DF</th>\n",
       "      <th>Den DF</th>\n",
       "      <th>Pr &gt; F</th>\n",
       "    </tr>\n",
       "  </thead>\n",
       "  <tbody>\n",
       "    <tr>\n",
       "      <th>boosting_type</th>\n",
       "      <td>6568.24873</td>\n",
       "      <td>1.0</td>\n",
       "      <td>6143.0</td>\n",
       "      <td>0.0</td>\n",
       "    </tr>\n",
       "  </tbody>\n",
       "</table>\n",
       "</div>"
      ],
      "text/plain": [
       "                  F Value  Num DF  Den DF  Pr > F\n",
       "boosting_type  6568.24873     1.0  6143.0     0.0"
      ]
     },
     "metadata": {},
     "output_type": "display_data"
    }
   ],
   "source": [
    "aovrm = AnovaRM(grid_search_data, 'score', 'subject_ID', within=[\"boosting_type\"])\n",
    "res = aovrm.fit()\n",
    "res = res.__dict__['anova_table']\n",
    "display(res)"
   ]
  },
  {
   "cell_type": "code",
   "execution_count": 55,
   "id": "40a5e1e7",
   "metadata": {},
   "outputs": [],
   "source": [
    "AnovaRM_result = pd.DataFrame() # 분석 결과 초기화\n",
    "param_cols = grid_search_data.columns.tolist()\n",
    "param_cols.remove('score')\n",
    "param_cols.remove('subject_ID')\n",
    "\n",
    "for param in param_cols:\n",
    "    # 데이터 수정\n",
    "    hyper_params = grid_search_data.columns[:-1].tolist()\n",
    "    hyper_params.remove(param)\n",
    "    hyper_params.insert(0, param)\n",
    "    grid_search_data.sort_values(by = hyper_params, inplace = True)\n",
    "    param_size = len(grid_search_data[param].unique())\n",
    "    num_ID = int(len(grid_search_data) / param_size)\n",
    "    grid_search_data['subject_ID'] = list(range(num_ID)) * param_size\n",
    "    \n",
    "    # 분석 결과 추가\n",
    "    aovrm = AnovaRM(grid_search_data, 'score', 'subject_ID', within=[param])\n",
    "    res = aovrm.fit()\n",
    "    res = res.__dict__['anova_table']\n",
    "    AnovaRM_result = AnovaRM_result.append(res)"
   ]
  },
  {
   "cell_type": "code",
   "execution_count": 56,
   "id": "0d65b209",
   "metadata": {},
   "outputs": [
    {
     "data": {
      "text/html": [
       "<div>\n",
       "<style scoped>\n",
       "    .dataframe tbody tr th:only-of-type {\n",
       "        vertical-align: middle;\n",
       "    }\n",
       "\n",
       "    .dataframe tbody tr th {\n",
       "        vertical-align: top;\n",
       "    }\n",
       "\n",
       "    .dataframe thead th {\n",
       "        text-align: right;\n",
       "    }\n",
       "</style>\n",
       "<table border=\"1\" class=\"dataframe\">\n",
       "  <thead>\n",
       "    <tr style=\"text-align: right;\">\n",
       "      <th></th>\n",
       "      <th>F Value</th>\n",
       "      <th>Num DF</th>\n",
       "      <th>Den DF</th>\n",
       "      <th>Pr &gt; F</th>\n",
       "    </tr>\n",
       "  </thead>\n",
       "  <tbody>\n",
       "    <tr>\n",
       "      <th>reg_alpha</th>\n",
       "      <td>64666.215872</td>\n",
       "      <td>3.0</td>\n",
       "      <td>9213.0</td>\n",
       "      <td>0.000000e+00</td>\n",
       "    </tr>\n",
       "    <tr>\n",
       "      <th>learning_rate</th>\n",
       "      <td>9682.902945</td>\n",
       "      <td>3.0</td>\n",
       "      <td>9213.0</td>\n",
       "      <td>0.000000e+00</td>\n",
       "    </tr>\n",
       "    <tr>\n",
       "      <th>boosting_type</th>\n",
       "      <td>6568.248730</td>\n",
       "      <td>1.0</td>\n",
       "      <td>6143.0</td>\n",
       "      <td>0.000000e+00</td>\n",
       "    </tr>\n",
       "    <tr>\n",
       "      <th>num_leaves</th>\n",
       "      <td>4943.618015</td>\n",
       "      <td>3.0</td>\n",
       "      <td>9213.0</td>\n",
       "      <td>0.000000e+00</td>\n",
       "    </tr>\n",
       "    <tr>\n",
       "      <th>colsample_bytree</th>\n",
       "      <td>2143.730367</td>\n",
       "      <td>2.0</td>\n",
       "      <td>8190.0</td>\n",
       "      <td>0.000000e+00</td>\n",
       "    </tr>\n",
       "    <tr>\n",
       "      <th>n_estimators</th>\n",
       "      <td>1477.375094</td>\n",
       "      <td>3.0</td>\n",
       "      <td>9213.0</td>\n",
       "      <td>0.000000e+00</td>\n",
       "    </tr>\n",
       "    <tr>\n",
       "      <th>metric</th>\n",
       "      <td>819.485950</td>\n",
       "      <td>1.0</td>\n",
       "      <td>6143.0</td>\n",
       "      <td>2.703479e-169</td>\n",
       "    </tr>\n",
       "    <tr>\n",
       "      <th>random_state</th>\n",
       "      <td>346.890102</td>\n",
       "      <td>3.0</td>\n",
       "      <td>9213.0</td>\n",
       "      <td>1.930288e-213</td>\n",
       "    </tr>\n",
       "  </tbody>\n",
       "</table>\n",
       "</div>"
      ],
      "text/plain": [
       "                       F Value  Num DF  Den DF         Pr > F\n",
       "reg_alpha         64666.215872     3.0  9213.0   0.000000e+00\n",
       "learning_rate      9682.902945     3.0  9213.0   0.000000e+00\n",
       "boosting_type      6568.248730     1.0  6143.0   0.000000e+00\n",
       "num_leaves         4943.618015     3.0  9213.0   0.000000e+00\n",
       "colsample_bytree   2143.730367     2.0  8190.0   0.000000e+00\n",
       "n_estimators       1477.375094     3.0  9213.0   0.000000e+00\n",
       "metric              819.485950     1.0  6143.0  2.703479e-169\n",
       "random_state        346.890102     3.0  9213.0  1.930288e-213"
      ]
     },
     "metadata": {},
     "output_type": "display_data"
    }
   ],
   "source": [
    "display(AnovaRM_result.sort_values(by = \"F Value\", ascending = False))"
   ]
  },
  {
   "cell_type": "code",
   "execution_count": 61,
   "id": "a51cb5f4",
   "metadata": {},
   "outputs": [
    {
     "name": "stdout",
     "output_type": "stream",
     "text": [
      "0.0:0.2895331565457736\n",
      "0.1:0.2902266120608595\n",
      "1.0:0.2979066980451965\n",
      "10.0:0.3392285961577812\n"
     ]
    }
   ],
   "source": [
    "for val in grid_search_data['reg_alpha'].unique():\n",
    "    avg_score = grid_search_data.loc[grid_search_data['reg_alpha'] == val,\n",
    "                                     'score'].mean()\n",
    "    print(\"{}:{}\".format(val, avg_score))"
   ]
  },
  {
   "cell_type": "code",
   "execution_count": 63,
   "id": "d142b5bd",
   "metadata": {},
   "outputs": [
    {
     "name": "stdout",
     "output_type": "stream",
     "text": [
      "0.01:0.8465915564287093\n",
      "0.05:0.14289935759632696\n",
      "0.1:0.1085783767317755\n",
      "0.3:0.11882577205279798\n"
     ]
    }
   ],
   "source": [
    "for val in grid_search_data['learning_rate'].unique():\n",
    "    avg_score = grid_search_data.loc[grid_search_data['learning_rate'] == val,\n",
    "                                     'score'].mean()\n",
    "    print(\"{}:{}\".format(val, avg_score))"
   ]
  },
  {
   "cell_type": "code",
   "execution_count": 64,
   "id": "caad7fe0",
   "metadata": {},
   "outputs": [
    {
     "name": "stdout",
     "output_type": "stream",
     "text": [
      "2020:0.3042900489902465\n",
      "2021:0.30343115815837834\n",
      "2022:0.3042139604741169\n",
      "2023:0.30495989518687033\n"
     ]
    }
   ],
   "source": [
    "for val in grid_search_data['random_state'].unique():\n",
    "    avg_score = grid_search_data.loc[grid_search_data['random_state'] == val,\n",
    "                                     'score'].mean()\n",
    "    print(\"{}:{}\".format(val, avg_score))"
   ]
  },
  {
   "cell_type": "markdown",
   "id": "2b82c689",
   "metadata": {},
   "source": [
    "### 결정 나무를 이용한 하이퍼 파라미터 범위 설정"
   ]
  },
  {
   "cell_type": "code",
   "execution_count": null,
   "id": "f7f64769",
   "metadata": {},
   "outputs": [],
   "source": []
  },
  {
   "cell_type": "markdown",
   "id": "d78bb1a5",
   "metadata": {},
   "source": [
    "#### 실험 데이터 준비"
   ]
  },
  {
   "cell_type": "code",
   "execution_count": null,
   "id": "d97f0c54",
   "metadata": {},
   "outputs": [],
   "source": [
    "grid = ParameterGrid({\"learning_rate\":np.arange(0.05, 0.3, 0.01)\n",
    "                      \"num_leaves\":[2**2, 2**3, 2**4, 2**5, 2**6, 2**7, 2**8],\n",
    "                      \"boosting_type\":[\"gbdt\", \"goss\"]})\n",
    "\n",
    "score_list = []\n",
    "for param in grid:\n",
    "    score = (-cross_val_score(LGB(**param), X, y,\n",
    "                              scoring = \"neg_mean_absolute_error\")).mean()\n",
    "    score_list.append(score)\n",
    "    \n",
    "grid_search_data = pd.DataFrame(grid)\n",
    "grid_search_data['score'] = score_list\n",
    "display(grid_search_data.head())\n",
    "grid_search_data.to_csv(\"LightGBM_하이퍼파라미터범위설정_실험데이터.csv\", index = False)"
   ]
  },
  {
   "cell_type": "code",
   "execution_count": null,
   "id": "927fe6e7",
   "metadata": {},
   "outputs": [],
   "source": []
  },
  {
   "cell_type": "code",
   "execution_count": null,
   "id": "9e6f6361",
   "metadata": {},
   "outputs": [],
   "source": []
  }
 ],
 "metadata": {
  "kernelspec": {
   "display_name": "Python 3",
   "language": "python",
   "name": "python3"
  },
  "language_info": {
   "codemirror_mode": {
    "name": "ipython",
    "version": 3
   },
   "file_extension": ".py",
   "mimetype": "text/x-python",
   "name": "python",
   "nbconvert_exporter": "python",
   "pygments_lexer": "ipython3",
   "version": "3.8.8"
  }
 },
 "nbformat": 4,
 "nbformat_minor": 5
}
