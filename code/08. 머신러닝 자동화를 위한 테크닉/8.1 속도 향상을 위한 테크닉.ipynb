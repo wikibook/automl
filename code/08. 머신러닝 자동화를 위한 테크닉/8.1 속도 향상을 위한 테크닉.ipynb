{
 "cells": [
  {
   "cell_type": "markdown",
   "id": "5cb8ed94",
   "metadata": {},
   "source": [
    "### 조기 종료(early stopping)"
   ]
  },
  {
   "cell_type": "code",
   "execution_count": 1,
   "id": "6fa62195",
   "metadata": {},
   "outputs": [],
   "source": [
    "import pandas as pd\n",
    "df = pd.read_csv(\"../../data/classification/winequality-red.csv\")\n",
    "X = df.drop('y', axis = 1)\n",
    "y = df['y']"
   ]
  },
  {
   "cell_type": "code",
   "execution_count": 2,
   "id": "658dd823",
   "metadata": {},
   "outputs": [],
   "source": [
    "import warnings\n",
    "warnings.filterwarnings(\"ignore\")"
   ]
  },
  {
   "cell_type": "code",
   "execution_count": 3,
   "id": "b7476485",
   "metadata": {},
   "outputs": [],
   "source": [
    "from sklearn.neural_network import MLPClassifier as MLP\n",
    "from sklearn.model_selection import ParameterGrid, KFold\n",
    "from sklearn.metrics import accuracy_score\n",
    "\n",
    "grid = ParameterGrid(\n",
    "        {\"hidden_layer_sizes\": [(10, ), (10, 10, 10), (20, 20), (30, 30, 30)],\n",
    "        \"early_stopping\": [True, False],\n",
    "        \"max_iter\": [100, 500, 1000],\n",
    "        \"random_state\":[2022]})"
   ]
  },
  {
   "cell_type": "code",
   "execution_count": 4,
   "id": "683992a6",
   "metadata": {},
   "outputs": [
    {
     "name": "stdout",
     "output_type": "stream",
     "text": [
      "{'early_stopping': False, 'hidden_layer_sizes': (10, 10, 10), 'max_iter': 1000, 'random_state': 2022} 0.5885050940438872\n",
      "89\n"
     ]
    }
   ],
   "source": [
    "import time\n",
    "kf = KFold(n_splits = 5, shuffle = True, random_state = 2022)\n",
    "start_time = time.time()\n",
    "best_score = -1\n",
    "for parameter in grid:\n",
    "    score = 0\n",
    "    for train_index, test_index in kf.split(X):\n",
    "        X_train, X_test = X.loc[train_index], X.loc[test_index]\n",
    "        y_train, y_test = y.loc[train_index], y.loc[test_index]\n",
    "        model = MLP(**parameter).fit(X_train, y_train)\n",
    "        y_pred = model.predict(X_test)\n",
    "        score += accuracy_score(y_test, y_pred) / 5\n",
    "    if score > best_score:\n",
    "        best_score = score\n",
    "        best_parameter = parameter\n",
    "    \n",
    "end_time = time.time()\n",
    "print(best_parameter, best_score)\n",
    "print(int(end_time - start_time))"
   ]
  },
  {
   "cell_type": "code",
   "execution_count": 6,
   "id": "77733eb8",
   "metadata": {},
   "outputs": [
    {
     "name": "stdout",
     "output_type": "stream",
     "text": [
      "{'early_stopping': False, 'hidden_layer_sizes': (10, 10, 10), 'max_iter': 1000, 'random_state': 2022} 0.5885050940438872\n",
      "81\n"
     ]
    }
   ],
   "source": [
    "start_time = time.time()\n",
    "best_score = -1\n",
    "for parameter in grid:\n",
    "    score = 0\n",
    "    k = 0\n",
    "    for train_index, test_index in kf.split(X):\n",
    "        X_train, X_test = X.loc[train_index], X.loc[test_index]\n",
    "        y_train, y_test = y.loc[train_index], y.loc[test_index]\n",
    "        model = MLP(**parameter).fit(X_train, y_train)\n",
    "        y_pred = model.predict(X_test)\n",
    "        score += accuracy_score(y_test, y_pred) / 5\n",
    "        k += 1\n",
    "        if score * (5/k) < best_score * 0.95:\n",
    "            break\n",
    "        \n",
    "    if score > best_score:\n",
    "        best_score = score\n",
    "        best_parameter = parameter\n",
    "    \n",
    "end_time = time.time()\n",
    "print(best_parameter, best_score)\n",
    "print(int(end_time - start_time))"
   ]
  },
  {
   "cell_type": "code",
   "execution_count": 18,
   "id": "a5a637d3",
   "metadata": {},
   "outputs": [
    {
     "name": "stdout",
     "output_type": "stream",
     "text": [
      "{'early_stopping': False, 'hidden_layer_sizes': (10, 10, 10), 'max_iter': 1000, 'random_state': 2022} 0.5885050940438872\n",
      "76\n"
     ]
    }
   ],
   "source": [
    "import numpy as np\n",
    "start_time = time.time()\n",
    "best_score = -1\n",
    "for parameter in grid:\n",
    "    score_list = []\n",
    "    for train_index, test_index in kf.split(X):\n",
    "        X_train, X_test = X.loc[train_index], X.loc[test_index]\n",
    "        y_train, y_test = y.loc[train_index], y.loc[test_index]\n",
    "        model = MLP(**parameter).fit(X_train, y_train)\n",
    "        y_pred = model.predict(X_test)\n",
    "        score = accuracy_score(y_test, y_pred)\n",
    "        score_list.append(score)\n",
    "        if score < best_score * 0.95:\n",
    "            break\n",
    "    \n",
    "    mean_score = np.mean(score_list)\n",
    "    if mean_score > best_score:\n",
    "        best_score = mean_score\n",
    "        best_parameter = parameter\n",
    "    \n",
    "end_time = time.time()\n",
    "print(best_parameter, best_score)\n",
    "print(int(end_time - start_time))"
   ]
  },
  {
   "cell_type": "markdown",
   "id": "34f795ad",
   "metadata": {},
   "source": [
    "### 다중 충실도(multi-fidelity)"
   ]
  },
  {
   "cell_type": "code",
   "execution_count": 7,
   "id": "abb078b7",
   "metadata": {},
   "outputs": [
    {
     "name": "stdout",
     "output_type": "stream",
     "text": [
      "{'early_stopping': False, 'hidden_layer_sizes': (10, 10, 10), 'max_iter': 1000, 'random_state': 2022} 0.5885050940438872\n",
      "43\n"
     ]
    }
   ],
   "source": [
    "from scipy.stats import rankdata\n",
    "start_time = time.time()\n",
    "\n",
    "s_param_idx_list = np.arange(len(grid)).astype(int)\n",
    "for i in range(5):\n",
    "    score_list = []\n",
    "    for s_param_idx in s_param_idx_list:\n",
    "        s_parameter = grid[s_param_idx]\n",
    "        s_idx = np.random.choice(X.index,\n",
    "                                 int(len(X) / len(s_param_idx_list)),\n",
    "                                 replace = False)\n",
    "        \n",
    "        s_X = X.loc[s_idx]\n",
    "        s_y = y.loc[s_idx]\n",
    "        \n",
    "        score = 0\n",
    "        for train_index, test_index in kf.split(s_X):\n",
    "            s_X_train, s_X_test = s_X.iloc[train_index], s_X.iloc[test_index]\n",
    "            s_y_train, s_y_test = s_y.iloc[train_index], s_y.iloc[test_index]\n",
    "            model = MLP(**s_parameter).fit(s_X_train, s_y_train)\n",
    "            s_y_pred = model.predict(s_X_test)\n",
    "            score += accuracy_score(s_y_test, s_y_pred) / 5\n",
    "        score_list.append(score)\n",
    "    score_list = np.array(score_list)\n",
    "    s_param_idx_list = rankdata(-score_list)[:int(len(s_param_idx_list) * 0.8)] - 1\n",
    "    s_param_idx_list = s_param_idx_list.astype(int)\n",
    "\n",
    "end_time = time.time()\n",
    "print(best_parameter, best_score)\n",
    "print(int(end_time - start_time))"
   ]
  },
  {
   "cell_type": "code",
   "execution_count": null,
   "id": "703076e8",
   "metadata": {},
   "outputs": [],
   "source": []
  }
 ],
 "metadata": {
  "kernelspec": {
   "display_name": "Python 3",
   "language": "python",
   "name": "python3"
  },
  "language_info": {
   "codemirror_mode": {
    "name": "ipython",
    "version": 3
   },
   "file_extension": ".py",
   "mimetype": "text/x-python",
   "name": "python",
   "nbconvert_exporter": "python",
   "pygments_lexer": "ipython3",
   "version": "3.8.8"
  }
 },
 "nbformat": 4,
 "nbformat_minor": 5
}
