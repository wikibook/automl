{
 "cells": [
  {
   "cell_type": "code",
   "execution_count": 1,
   "id": "627b7fd9",
   "metadata": {
    "scrolled": false
   },
   "outputs": [
    {
     "name": "stdout",
     "output_type": "stream",
     "text": [
      "Checking whether there is an H2O instance running at http://localhost:54321 . connected.\n"
     ]
    },
    {
     "data": {
      "text/html": [
       "<div style=\"overflow:auto\"><table style=\"width:50%\"><tr><td>H2O_cluster_uptime:</td>\n",
       "<td>1 day 12 hours 52 mins</td></tr>\n",
       "<tr><td>H2O_cluster_timezone:</td>\n",
       "<td>Asia/Seoul</td></tr>\n",
       "<tr><td>H2O_data_parsing_timezone:</td>\n",
       "<td>UTC</td></tr>\n",
       "<tr><td>H2O_cluster_version:</td>\n",
       "<td>3.36.1.1</td></tr>\n",
       "<tr><td>H2O_cluster_version_age:</td>\n",
       "<td>7 days, 19 hours and 24 minutes </td></tr>\n",
       "<tr><td>H2O_cluster_name:</td>\n",
       "<td>H2O_from_python_Gilseung_ax8c8b</td></tr>\n",
       "<tr><td>H2O_cluster_total_nodes:</td>\n",
       "<td>1</td></tr>\n",
       "<tr><td>H2O_cluster_free_memory:</td>\n",
       "<td>1.914 Gb</td></tr>\n",
       "<tr><td>H2O_cluster_total_cores:</td>\n",
       "<td>8</td></tr>\n",
       "<tr><td>H2O_cluster_allowed_cores:</td>\n",
       "<td>8</td></tr>\n",
       "<tr><td>H2O_cluster_status:</td>\n",
       "<td>locked, healthy</td></tr>\n",
       "<tr><td>H2O_connection_url:</td>\n",
       "<td>http://localhost:54321</td></tr>\n",
       "<tr><td>H2O_connection_proxy:</td>\n",
       "<td>{\"http\": null, \"https\": null}</td></tr>\n",
       "<tr><td>H2O_internal_security:</td>\n",
       "<td>False</td></tr>\n",
       "<tr><td>Python_version:</td>\n",
       "<td>3.8.8 final</td></tr></table></div>"
      ],
      "text/plain": [
       "--------------------------  -------------------------------\n",
       "H2O_cluster_uptime:         1 day 12 hours 52 mins\n",
       "H2O_cluster_timezone:       Asia/Seoul\n",
       "H2O_data_parsing_timezone:  UTC\n",
       "H2O_cluster_version:        3.36.1.1\n",
       "H2O_cluster_version_age:    7 days, 19 hours and 24 minutes\n",
       "H2O_cluster_name:           H2O_from_python_Gilseung_ax8c8b\n",
       "H2O_cluster_total_nodes:    1\n",
       "H2O_cluster_free_memory:    1.914 Gb\n",
       "H2O_cluster_total_cores:    8\n",
       "H2O_cluster_allowed_cores:  8\n",
       "H2O_cluster_status:         locked, healthy\n",
       "H2O_connection_url:         http://localhost:54321\n",
       "H2O_connection_proxy:       {\"http\": null, \"https\": null}\n",
       "H2O_internal_security:      False\n",
       "Python_version:             3.8.8 final\n",
       "--------------------------  -------------------------------"
      ]
     },
     "metadata": {},
     "output_type": "display_data"
    }
   ],
   "source": [
    "import h2o\n",
    "h2o.init()"
   ]
  },
  {
   "cell_type": "markdown",
   "id": "4a58096a",
   "metadata": {},
   "source": [
    "#### 모델 학습"
   ]
  },
  {
   "cell_type": "code",
   "execution_count": 1,
   "id": "b90bf5d5",
   "metadata": {},
   "outputs": [],
   "source": [
    "import pandas as pd\n",
    "from sklearn.model_selection import train_test_split\n",
    "df = pd.read_csv(\"../../data/regression/wankara.csv\")\n",
    "train_df, test_df = train_test_split(df)"
   ]
  },
  {
   "cell_type": "code",
   "execution_count": 7,
   "id": "cf41ce62",
   "metadata": {},
   "outputs": [],
   "source": [
    "from h2o.automl import H2OAutoML\n",
    "aml = H2OAutoML(max_runtime_secs = 3600)"
   ]
  },
  {
   "cell_type": "code",
   "execution_count": 12,
   "id": "1f1c23e6",
   "metadata": {},
   "outputs": [
    {
     "name": "stdout",
     "output_type": "stream",
     "text": [
      "Parse progress: |████████████████████████████████████████████████████████████████| (done) 100%\n",
      "Parse progress: |████████████████████████████████████████████████████████████████| (done) 100%\n"
     ]
    }
   ],
   "source": [
    "train_df = h2o.H2OFrame(train_df)\n",
    "test_df = h2o.H2OFrame(test_df)"
   ]
  },
  {
   "cell_type": "code",
   "execution_count": 14,
   "id": "1e2749e0",
   "metadata": {},
   "outputs": [
    {
     "name": "stdout",
     "output_type": "stream",
     "text": [
      "AutoML progress: |\n",
      "11:37:38.39: AutoML: XGBoost is not available; skipping it.\n",
      "\n",
      "███████████████████████████████████████████████████████████████| (done) 100%\n",
      "Model Details\n",
      "=============\n",
      "H2OStackedEnsembleEstimator :  Stacked Ensemble\n",
      "Model Key:  StackedEnsemble_BestOfFamily_6_AutoML_1_20220421_113737\n",
      "\n",
      "No model summary for this model\n",
      "\n",
      "ModelMetricsRegressionGLM: stackedensemble\n",
      "** Reported on train data. **\n",
      "\n",
      "MSE: 0.7639552304417417\n",
      "RMSE: 0.8740453251644\n",
      "MAE: 0.6655681992505696\n",
      "RMSLE: 0.022355459050143828\n",
      "R^2: 0.9967805714834589\n",
      "Mean Residual Deviance: 0.7639552304417417\n",
      "Null degrees of freedom: 1205\n",
      "Residual degrees of freedom: 1200\n",
      "Null deviance: 286178.12235280237\n",
      "Residual deviance: 921.3300079127406\n",
      "AIC: 3111.768957030074\n",
      "\n",
      "ModelMetricsRegressionGLM: stackedensemble\n",
      "** Reported on cross-validation data. **\n",
      "\n",
      "MSE: 1.395131560910733\n",
      "RMSE: 1.1811568739632907\n",
      "MAE: 0.9097774429667619\n",
      "RMSLE: 0.028547313735097873\n",
      "R^2: 0.9941206943122504\n",
      "Mean Residual Deviance: 1.395131560910733\n",
      "Null degrees of freedom: 1205\n",
      "Residual degrees of freedom: 1200\n",
      "Null deviance: 286749.49309019133\n",
      "Residual deviance: 1682.5286624583441\n",
      "AIC: 3838.0641380757384\n",
      "\n",
      "Cross-Validation Metrics Summary: \n"
     ]
    },
    {
     "data": {
      "text/html": [
       "<div>\n",
       "<style scoped>\n",
       "    .dataframe tbody tr th:only-of-type {\n",
       "        vertical-align: middle;\n",
       "    }\n",
       "\n",
       "    .dataframe tbody tr th {\n",
       "        vertical-align: top;\n",
       "    }\n",
       "\n",
       "    .dataframe thead th {\n",
       "        text-align: right;\n",
       "    }\n",
       "</style>\n",
       "<table border=\"1\" class=\"dataframe\">\n",
       "  <thead>\n",
       "    <tr style=\"text-align: right;\">\n",
       "      <th></th>\n",
       "      <th></th>\n",
       "      <th>mean</th>\n",
       "      <th>sd</th>\n",
       "      <th>cv_1_valid</th>\n",
       "      <th>cv_2_valid</th>\n",
       "      <th>cv_3_valid</th>\n",
       "      <th>cv_4_valid</th>\n",
       "      <th>cv_5_valid</th>\n",
       "    </tr>\n",
       "  </thead>\n",
       "  <tbody>\n",
       "    <tr>\n",
       "      <th>0</th>\n",
       "      <td>mae</td>\n",
       "      <td>0.907263</td>\n",
       "      <td>0.053535</td>\n",
       "      <td>0.961983</td>\n",
       "      <td>0.881519</td>\n",
       "      <td>0.967105</td>\n",
       "      <td>0.850988</td>\n",
       "      <td>0.874717</td>\n",
       "    </tr>\n",
       "    <tr>\n",
       "      <th>1</th>\n",
       "      <td>mean_residual_deviance</td>\n",
       "      <td>1.388473</td>\n",
       "      <td>0.131406</td>\n",
       "      <td>1.501449</td>\n",
       "      <td>1.187794</td>\n",
       "      <td>1.512434</td>\n",
       "      <td>1.368019</td>\n",
       "      <td>1.372668</td>\n",
       "    </tr>\n",
       "    <tr>\n",
       "      <th>2</th>\n",
       "      <td>mse</td>\n",
       "      <td>1.388473</td>\n",
       "      <td>0.131406</td>\n",
       "      <td>1.501449</td>\n",
       "      <td>1.187794</td>\n",
       "      <td>1.512434</td>\n",
       "      <td>1.368019</td>\n",
       "      <td>1.372668</td>\n",
       "    </tr>\n",
       "    <tr>\n",
       "      <th>3</th>\n",
       "      <td>null_deviance</td>\n",
       "      <td>57349.900000</td>\n",
       "      <td>4023.832800</td>\n",
       "      <td>64409.450000</td>\n",
       "      <td>55869.168000</td>\n",
       "      <td>56147.594000</td>\n",
       "      <td>54236.273000</td>\n",
       "      <td>56087.008000</td>\n",
       "    </tr>\n",
       "    <tr>\n",
       "      <th>4</th>\n",
       "      <td>r2</td>\n",
       "      <td>0.994116</td>\n",
       "      <td>0.000593</td>\n",
       "      <td>0.994055</td>\n",
       "      <td>0.995009</td>\n",
       "      <td>0.993344</td>\n",
       "      <td>0.994149</td>\n",
       "      <td>0.994024</td>\n",
       "    </tr>\n",
       "    <tr>\n",
       "      <th>5</th>\n",
       "      <td>residual_deviance</td>\n",
       "      <td>335.732700</td>\n",
       "      <td>43.886790</td>\n",
       "      <td>382.869500</td>\n",
       "      <td>276.756070</td>\n",
       "      <td>373.571260</td>\n",
       "      <td>311.908400</td>\n",
       "      <td>333.558200</td>\n",
       "    </tr>\n",
       "    <tr>\n",
       "      <th>6</th>\n",
       "      <td>rmse</td>\n",
       "      <td>1.177248</td>\n",
       "      <td>0.056573</td>\n",
       "      <td>1.225336</td>\n",
       "      <td>1.089860</td>\n",
       "      <td>1.229811</td>\n",
       "      <td>1.169623</td>\n",
       "      <td>1.171609</td>\n",
       "    </tr>\n",
       "    <tr>\n",
       "      <th>7</th>\n",
       "      <td>rmsle</td>\n",
       "      <td>0.028345</td>\n",
       "      <td>0.003092</td>\n",
       "      <td>0.032939</td>\n",
       "      <td>0.026443</td>\n",
       "      <td>0.030140</td>\n",
       "      <td>0.026432</td>\n",
       "      <td>0.025770</td>\n",
       "    </tr>\n",
       "  </tbody>\n",
       "</table>\n",
       "</div>"
      ],
      "text/plain": [
       "                                   mean           sd    cv_1_valid  \\\n",
       "0                     mae      0.907263     0.053535      0.961983   \n",
       "1  mean_residual_deviance      1.388473     0.131406      1.501449   \n",
       "2                     mse      1.388473     0.131406      1.501449   \n",
       "3           null_deviance  57349.900000  4023.832800  64409.450000   \n",
       "4                      r2      0.994116     0.000593      0.994055   \n",
       "5       residual_deviance    335.732700    43.886790    382.869500   \n",
       "6                    rmse      1.177248     0.056573      1.225336   \n",
       "7                   rmsle      0.028345     0.003092      0.032939   \n",
       "\n",
       "     cv_2_valid    cv_3_valid    cv_4_valid    cv_5_valid  \n",
       "0      0.881519      0.967105      0.850988      0.874717  \n",
       "1      1.187794      1.512434      1.368019      1.372668  \n",
       "2      1.187794      1.512434      1.368019      1.372668  \n",
       "3  55869.168000  56147.594000  54236.273000  56087.008000  \n",
       "4      0.995009      0.993344      0.994149      0.994024  \n",
       "5    276.756070    373.571260    311.908400    333.558200  \n",
       "6      1.089860      1.229811      1.169623      1.171609  \n",
       "7      0.026443      0.030140      0.026432      0.025770  "
      ]
     },
     "metadata": {},
     "output_type": "display_data"
    },
    {
     "data": {
      "text/plain": []
     },
     "execution_count": 14,
     "metadata": {},
     "output_type": "execute_result"
    }
   ],
   "source": [
    "aml.train(x = list(df.drop('y', axis = 1).columns),\n",
    "          y = 'y',\n",
    "          training_frame = train_df,\n",
    "          leaderboard_frame = test_df)"
   ]
  },
  {
   "cell_type": "code",
   "execution_count": 16,
   "id": "25f48898",
   "metadata": {},
   "outputs": [
    {
     "data": {
      "text/html": [
       "<table>\n",
       "<thead>\n",
       "<tr><th>model_id                                               </th><th style=\"text-align: right;\">   rmse</th><th style=\"text-align: right;\">    mse</th><th style=\"text-align: right;\">     mae</th><th style=\"text-align: right;\">    rmsle</th><th style=\"text-align: right;\">  mean_residual_deviance</th></tr>\n",
       "</thead>\n",
       "<tbody>\n",
       "<tr><td>StackedEnsemble_BestOfFamily_6_AutoML_1_20220421_113737</td><td style=\"text-align: right;\">1.2228 </td><td style=\"text-align: right;\">1.49524</td><td style=\"text-align: right;\">0.944005</td><td style=\"text-align: right;\">0.0305209</td><td style=\"text-align: right;\">                 1.49524</td></tr>\n",
       "<tr><td>StackedEnsemble_BestOfFamily_4_AutoML_1_20220421_113737</td><td style=\"text-align: right;\">1.24926</td><td style=\"text-align: right;\">1.56066</td><td style=\"text-align: right;\">0.957628</td><td style=\"text-align: right;\">0.0310331</td><td style=\"text-align: right;\">                 1.56066</td></tr>\n",
       "<tr><td>StackedEnsemble_AllModels_6_AutoML_1_20220421_113737   </td><td style=\"text-align: right;\">1.25538</td><td style=\"text-align: right;\">1.57598</td><td style=\"text-align: right;\">0.979048</td><td style=\"text-align: right;\">0.0293236</td><td style=\"text-align: right;\">                 1.57598</td></tr>\n",
       "<tr><td>DeepLearning_grid_1_AutoML_1_20220421_113737_model_1   </td><td style=\"text-align: right;\">1.27578</td><td style=\"text-align: right;\">1.62762</td><td style=\"text-align: right;\">0.978258</td><td style=\"text-align: right;\">0.0321887</td><td style=\"text-align: right;\">                 1.62762</td></tr>\n",
       "<tr><td>StackedEnsemble_BestOfFamily_5_AutoML_1_20220421_113737</td><td style=\"text-align: right;\">1.35422</td><td style=\"text-align: right;\">1.8339 </td><td style=\"text-align: right;\">1.04192 </td><td style=\"text-align: right;\">0.0392248</td><td style=\"text-align: right;\">                 1.8339 </td></tr>\n",
       "<tr><td>DeepLearning_grid_1_AutoML_1_20220421_113737_model_4   </td><td style=\"text-align: right;\">1.37484</td><td style=\"text-align: right;\">1.89018</td><td style=\"text-align: right;\">1.06594 </td><td style=\"text-align: right;\">0.0340014</td><td style=\"text-align: right;\">                 1.89018</td></tr>\n",
       "<tr><td>DeepLearning_grid_1_AutoML_1_20220421_113737_model_30  </td><td style=\"text-align: right;\">1.37948</td><td style=\"text-align: right;\">1.90296</td><td style=\"text-align: right;\">1.04116 </td><td style=\"text-align: right;\">0.0300074</td><td style=\"text-align: right;\">                 1.90296</td></tr>\n",
       "<tr><td>StackedEnsemble_BestOfFamily_2_AutoML_1_20220421_113737</td><td style=\"text-align: right;\">1.40048</td><td style=\"text-align: right;\">1.96133</td><td style=\"text-align: right;\">1.06444 </td><td style=\"text-align: right;\">0.0356848</td><td style=\"text-align: right;\">                 1.96133</td></tr>\n",
       "<tr><td>StackedEnsemble_BestOfFamily_3_AutoML_1_20220421_113737</td><td style=\"text-align: right;\">1.40211</td><td style=\"text-align: right;\">1.96592</td><td style=\"text-align: right;\">1.09454 </td><td style=\"text-align: right;\">0.0347414</td><td style=\"text-align: right;\">                 1.96592</td></tr>\n",
       "<tr><td>StackedEnsemble_AllModels_2_AutoML_1_20220421_113737   </td><td style=\"text-align: right;\">1.40431</td><td style=\"text-align: right;\">1.97208</td><td style=\"text-align: right;\">1.09261 </td><td style=\"text-align: right;\">0.0347867</td><td style=\"text-align: right;\">                 1.97208</td></tr>\n",
       "</tbody>\n",
       "</table>"
      ]
     },
     "metadata": {},
     "output_type": "display_data"
    },
    {
     "data": {
      "text/plain": []
     },
     "metadata": {},
     "output_type": "display_data"
    }
   ],
   "source": [
    "lb = aml.leaderboard\n",
    "display(lb.head(rows = 10))"
   ]
  },
  {
   "cell_type": "code",
   "execution_count": 19,
   "id": "29bf842b",
   "metadata": {},
   "outputs": [
    {
     "name": "stdout",
     "output_type": "stream",
     "text": [
      "stackedensemble prediction progress: |███████████████████████████████████████████| (done) 100%\n"
     ]
    },
    {
     "data": {
      "text/html": [
       "<table>\n",
       "<thead>\n",
       "<tr><th style=\"text-align: right;\">  predict</th></tr>\n",
       "</thead>\n",
       "<tbody>\n",
       "<tr><td style=\"text-align: right;\">  35.4338</td></tr>\n",
       "<tr><td style=\"text-align: right;\">  36.0951</td></tr>\n",
       "<tr><td style=\"text-align: right;\">  72.4443</td></tr>\n",
       "<tr><td style=\"text-align: right;\">  30.7745</td></tr>\n",
       "<tr><td style=\"text-align: right;\">  70.8613</td></tr>\n",
       "<tr><td style=\"text-align: right;\">  49.8148</td></tr>\n",
       "<tr><td style=\"text-align: right;\">  56.9813</td></tr>\n",
       "<tr><td style=\"text-align: right;\">  66.2821</td></tr>\n",
       "<tr><td style=\"text-align: right;\">  76.4649</td></tr>\n",
       "<tr><td style=\"text-align: right;\">  51.9912</td></tr>\n",
       "</tbody>\n",
       "</table>"
      ]
     },
     "metadata": {},
     "output_type": "display_data"
    },
    {
     "data": {
      "text/plain": []
     },
     "execution_count": 19,
     "metadata": {},
     "output_type": "execute_result"
    }
   ],
   "source": [
    "aml.predict(test_df)"
   ]
  },
  {
   "cell_type": "code",
   "execution_count": null,
   "id": "a24c1b2e",
   "metadata": {},
   "outputs": [],
   "source": []
  }
 ],
 "metadata": {
  "kernelspec": {
   "display_name": "Python 3",
   "language": "python",
   "name": "python3"
  },
  "language_info": {
   "codemirror_mode": {
    "name": "ipython",
    "version": 3
   },
   "file_extension": ".py",
   "mimetype": "text/x-python",
   "name": "python",
   "nbconvert_exporter": "python",
   "pygments_lexer": "ipython3",
   "version": "3.8.8"
  }
 },
 "nbformat": 4,
 "nbformat_minor": 5
}
