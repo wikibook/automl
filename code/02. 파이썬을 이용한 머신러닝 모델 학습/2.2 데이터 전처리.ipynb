{
 "cells": [
  {
   "cell_type": "markdown",
   "id": "707fb3c2",
   "metadata": {},
   "source": [
    "### 결측 처리"
   ]
  },
  {
   "cell_type": "code",
   "execution_count": 1,
   "id": "b6a7afee",
   "metadata": {},
   "outputs": [],
   "source": [
    "import os\n",
    "import pandas as pd\n",
    "os.chdir(\"../../data\")\n",
    "df = pd.read_csv(\"classification/bands.csv\")"
   ]
  },
  {
   "cell_type": "markdown",
   "id": "47a1a66b",
   "metadata": {},
   "source": [
    "#### 결측 판단"
   ]
  },
  {
   "cell_type": "code",
   "execution_count": 2,
   "id": "dd44a532",
   "metadata": {},
   "outputs": [
    {
     "data": {
      "text/html": [
       "<div>\n",
       "<style scoped>\n",
       "    .dataframe tbody tr th:only-of-type {\n",
       "        vertical-align: middle;\n",
       "    }\n",
       "\n",
       "    .dataframe tbody tr th {\n",
       "        vertical-align: top;\n",
       "    }\n",
       "\n",
       "    .dataframe thead th {\n",
       "        text-align: right;\n",
       "    }\n",
       "</style>\n",
       "<table border=\"1\" class=\"dataframe\">\n",
       "  <thead>\n",
       "    <tr style=\"text-align: right;\">\n",
       "      <th></th>\n",
       "      <th>x1</th>\n",
       "      <th>x2</th>\n",
       "      <th>x3</th>\n",
       "      <th>x4</th>\n",
       "      <th>x5</th>\n",
       "      <th>x6</th>\n",
       "      <th>x7</th>\n",
       "      <th>x8</th>\n",
       "      <th>x9</th>\n",
       "      <th>x10</th>\n",
       "      <th>x11</th>\n",
       "      <th>x12</th>\n",
       "      <th>x13</th>\n",
       "      <th>x14</th>\n",
       "      <th>x15</th>\n",
       "      <th>x16</th>\n",
       "      <th>x17</th>\n",
       "      <th>x18</th>\n",
       "      <th>x19</th>\n",
       "      <th>y</th>\n",
       "    </tr>\n",
       "  </thead>\n",
       "  <tbody>\n",
       "    <tr>\n",
       "      <th>0</th>\n",
       "      <td>False</td>\n",
       "      <td>False</td>\n",
       "      <td>False</td>\n",
       "      <td>False</td>\n",
       "      <td>False</td>\n",
       "      <td>False</td>\n",
       "      <td>False</td>\n",
       "      <td>False</td>\n",
       "      <td>False</td>\n",
       "      <td>False</td>\n",
       "      <td>False</td>\n",
       "      <td>False</td>\n",
       "      <td>False</td>\n",
       "      <td>False</td>\n",
       "      <td>False</td>\n",
       "      <td>False</td>\n",
       "      <td>False</td>\n",
       "      <td>False</td>\n",
       "      <td>False</td>\n",
       "      <td>False</td>\n",
       "    </tr>\n",
       "    <tr>\n",
       "      <th>1</th>\n",
       "      <td>False</td>\n",
       "      <td>False</td>\n",
       "      <td>False</td>\n",
       "      <td>False</td>\n",
       "      <td>False</td>\n",
       "      <td>False</td>\n",
       "      <td>False</td>\n",
       "      <td>False</td>\n",
       "      <td>False</td>\n",
       "      <td>False</td>\n",
       "      <td>False</td>\n",
       "      <td>False</td>\n",
       "      <td>False</td>\n",
       "      <td>False</td>\n",
       "      <td>False</td>\n",
       "      <td>False</td>\n",
       "      <td>False</td>\n",
       "      <td>False</td>\n",
       "      <td>False</td>\n",
       "      <td>False</td>\n",
       "    </tr>\n",
       "    <tr>\n",
       "      <th>2</th>\n",
       "      <td>False</td>\n",
       "      <td>False</td>\n",
       "      <td>False</td>\n",
       "      <td>False</td>\n",
       "      <td>False</td>\n",
       "      <td>True</td>\n",
       "      <td>False</td>\n",
       "      <td>False</td>\n",
       "      <td>False</td>\n",
       "      <td>False</td>\n",
       "      <td>False</td>\n",
       "      <td>False</td>\n",
       "      <td>False</td>\n",
       "      <td>False</td>\n",
       "      <td>False</td>\n",
       "      <td>False</td>\n",
       "      <td>False</td>\n",
       "      <td>False</td>\n",
       "      <td>False</td>\n",
       "      <td>False</td>\n",
       "    </tr>\n",
       "    <tr>\n",
       "      <th>3</th>\n",
       "      <td>False</td>\n",
       "      <td>False</td>\n",
       "      <td>False</td>\n",
       "      <td>False</td>\n",
       "      <td>False</td>\n",
       "      <td>False</td>\n",
       "      <td>False</td>\n",
       "      <td>False</td>\n",
       "      <td>False</td>\n",
       "      <td>False</td>\n",
       "      <td>False</td>\n",
       "      <td>False</td>\n",
       "      <td>False</td>\n",
       "      <td>False</td>\n",
       "      <td>False</td>\n",
       "      <td>False</td>\n",
       "      <td>False</td>\n",
       "      <td>False</td>\n",
       "      <td>False</td>\n",
       "      <td>False</td>\n",
       "    </tr>\n",
       "    <tr>\n",
       "      <th>4</th>\n",
       "      <td>False</td>\n",
       "      <td>False</td>\n",
       "      <td>False</td>\n",
       "      <td>False</td>\n",
       "      <td>False</td>\n",
       "      <td>False</td>\n",
       "      <td>False</td>\n",
       "      <td>False</td>\n",
       "      <td>False</td>\n",
       "      <td>False</td>\n",
       "      <td>False</td>\n",
       "      <td>False</td>\n",
       "      <td>False</td>\n",
       "      <td>False</td>\n",
       "      <td>False</td>\n",
       "      <td>False</td>\n",
       "      <td>False</td>\n",
       "      <td>False</td>\n",
       "      <td>False</td>\n",
       "      <td>False</td>\n",
       "    </tr>\n",
       "  </tbody>\n",
       "</table>\n",
       "</div>"
      ],
      "text/plain": [
       "      x1     x2     x3     x4     x5     x6     x7     x8     x9    x10  \\\n",
       "0  False  False  False  False  False  False  False  False  False  False   \n",
       "1  False  False  False  False  False  False  False  False  False  False   \n",
       "2  False  False  False  False  False   True  False  False  False  False   \n",
       "3  False  False  False  False  False  False  False  False  False  False   \n",
       "4  False  False  False  False  False  False  False  False  False  False   \n",
       "\n",
       "     x11    x12    x13    x14    x15    x16    x17    x18    x19      y  \n",
       "0  False  False  False  False  False  False  False  False  False  False  \n",
       "1  False  False  False  False  False  False  False  False  False  False  \n",
       "2  False  False  False  False  False  False  False  False  False  False  \n",
       "3  False  False  False  False  False  False  False  False  False  False  \n",
       "4  False  False  False  False  False  False  False  False  False  False  "
      ]
     },
     "metadata": {},
     "output_type": "display_data"
    }
   ],
   "source": [
    "display(df.isnull().head())"
   ]
  },
  {
   "cell_type": "code",
   "execution_count": 3,
   "id": "6c372051",
   "metadata": {},
   "outputs": [
    {
     "name": "stdout",
     "output_type": "stream",
     "text": [
      "nan\n"
     ]
    }
   ],
   "source": [
    "print(df.loc[2, \"x6\"])"
   ]
  },
  {
   "cell_type": "code",
   "execution_count": 4,
   "id": "443550cd",
   "metadata": {},
   "outputs": [
    {
     "data": {
      "text/plain": [
       "x1     54\n",
       "x2      5\n",
       "x3     27\n",
       "x4      2\n",
       "x5      1\n",
       "x6     30\n",
       "x7     63\n",
       "x8     55\n",
       "x9     10\n",
       "x10    55\n",
       "x11    55\n",
       "x12    56\n",
       "x13    54\n",
       "x14     6\n",
       "x15     7\n",
       "x16    54\n",
       "x17     7\n",
       "x18     7\n",
       "x19     3\n",
       "y       0\n",
       "dtype: int64"
      ]
     },
     "metadata": {},
     "output_type": "display_data"
    }
   ],
   "source": [
    "display(df.isnull().sum(axis = 0))"
   ]
  },
  {
   "cell_type": "markdown",
   "id": "46a8b095",
   "metadata": {},
   "source": [
    "#### 결측 제거"
   ]
  },
  {
   "cell_type": "code",
   "execution_count": 5,
   "id": "ff509186",
   "metadata": {},
   "outputs": [
    {
     "name": "stdout",
     "output_type": "stream",
     "text": [
      "0\n"
     ]
    }
   ],
   "source": [
    "df.dropna(inplace = True)\n",
    "print(df.isnull().sum().sum())"
   ]
  },
  {
   "cell_type": "markdown",
   "id": "682a3c71",
   "metadata": {},
   "source": [
    "#### 대푯값으로 결측 대체"
   ]
  },
  {
   "cell_type": "code",
   "execution_count": 6,
   "id": "8520b0e5",
   "metadata": {},
   "outputs": [],
   "source": [
    "X = df.drop('y', axis = 1)\n",
    "y = df['y']\n",
    "\n",
    "from sklearn.model_selection import train_test_split\n",
    "X_train, X_test, y_train, y_test = train_test_split(X, y, random_state = 2022)"
   ]
  },
  {
   "cell_type": "code",
   "execution_count": 7,
   "id": "c6ad3fd0",
   "metadata": {},
   "outputs": [],
   "source": [
    "from sklearn.impute import SimpleImputer\n",
    "imputer = SimpleImputer(strategy = \"mean\")"
   ]
  },
  {
   "cell_type": "code",
   "execution_count": 8,
   "id": "e300a1f2",
   "metadata": {},
   "outputs": [],
   "source": [
    "imputer.fit(X_train)\n",
    "Z_train = pd.DataFrame(imputer.transform(X_train), columns = X_train.columns)\n",
    "Z_test = pd.DataFrame(imputer.transform(X_test), columns = X_test.columns)"
   ]
  },
  {
   "cell_type": "markdown",
   "id": "ee23773f",
   "metadata": {},
   "source": [
    "#### 이웃을 활용한 결측 대체"
   ]
  },
  {
   "cell_type": "code",
   "execution_count": 9,
   "id": "afcec7dc",
   "metadata": {},
   "outputs": [],
   "source": [
    "from sklearn.impute import KNNImputer\n",
    "imputer = KNNImputer()\n",
    "imputer.fit(X_train)\n",
    "Z_train = pd.DataFrame(imputer.transform(X_train), columns = X_train.columns)\n",
    "Z_test = pd.DataFrame(imputer.transform(X_test), columns = X_test.columns)"
   ]
  },
  {
   "cell_type": "markdown",
   "id": "f4518089",
   "metadata": {},
   "source": [
    "### 범주 및 서열형 변수 처리"
   ]
  },
  {
   "cell_type": "code",
   "execution_count": 10,
   "id": "2b8e6a9d",
   "metadata": {},
   "outputs": [],
   "source": [
    "df = pd.read_csv(\"classification/german.csv\")\n",
    "X = df.drop('y', axis = 1)\n",
    "y = df['y']\n",
    "X_train, X_test, y_train, y_test = train_test_split(X, y, random_state = 2022)"
   ]
  },
  {
   "cell_type": "markdown",
   "id": "5fb5e0a8",
   "metadata": {},
   "source": [
    "#### 더미화"
   ]
  },
  {
   "cell_type": "code",
   "execution_count": 11,
   "id": "1e55d330",
   "metadata": {},
   "outputs": [],
   "source": [
    "from feature_engine.encoding import OneHotEncoder as OHE\n",
    "dummy_model = OHE(drop_last = True).fit(X_train)\n",
    "Z_train = dummy_model.transform(X_train)\n",
    "Z_test = dummy_model.transform(X_test)"
   ]
  },
  {
   "cell_type": "markdown",
   "id": "10d663d2",
   "metadata": {},
   "source": [
    "#### 라벨을 활용한 치환"
   ]
  },
  {
   "cell_type": "code",
   "execution_count": 12,
   "id": "02e6e51e",
   "metadata": {
    "scrolled": true
   },
   "outputs": [
    {
     "data": {
      "text/plain": [
       "x1\n",
       "A11    0.492701\n",
       "A12    0.390335\n",
       "A13    0.222222\n",
       "A14    0.116751\n",
       "Name: y, dtype: float64"
      ]
     },
     "metadata": {},
     "output_type": "display_data"
    }
   ],
   "source": [
    "S = df.groupby('x1')['y'].mean()\n",
    "display(S)"
   ]
  },
  {
   "cell_type": "code",
   "execution_count": 13,
   "id": "3d697992",
   "metadata": {},
   "outputs": [
    {
     "data": {
      "text/plain": [
       "0      0.492701\n",
       "1      0.390335\n",
       "2      0.116751\n",
       "3      0.492701\n",
       "4      0.492701\n",
       "         ...   \n",
       "995    0.492701\n",
       "996    0.390335\n",
       "997    0.390335\n",
       "998    0.116751\n",
       "999    0.390335\n",
       "Name: x1, Length: 1000, dtype: float64"
      ]
     },
     "metadata": {},
     "output_type": "display_data"
    }
   ],
   "source": [
    "display(df['x1'].replace(S.to_dict()))"
   ]
  },
  {
   "cell_type": "code",
   "execution_count": 14,
   "id": "4491f21e",
   "metadata": {},
   "outputs": [],
   "source": [
    "train = pd.concat([X_train, y_train], axis = 1)"
   ]
  },
  {
   "cell_type": "code",
   "execution_count": 15,
   "id": "abcedb69",
   "metadata": {},
   "outputs": [
    {
     "name": "stderr",
     "output_type": "stream",
     "text": [
      "C:\\Users\\Gilseung\\anaconda3\\lib\\site-packages\\pandas\\core\\indexing.py:1676: SettingWithCopyWarning: \n",
      "A value is trying to be set on a copy of a slice from a DataFrame.\n",
      "Try using .loc[row_indexer,col_indexer] = value instead\n",
      "\n",
      "See the caveats in the documentation: https://pandas.pydata.org/pandas-docs/stable/user_guide/indexing.html#returning-a-view-versus-a-copy\n",
      "  self._setitem_single_column(ilocs[0], value, pi)\n"
     ]
    },
    {
     "data": {
      "text/plain": [
       "357    0.497512\n",
       "964    0.405797\n",
       "337    0.113402\n",
       "980    0.235294\n",
       "455    0.113402\n",
       "Name: x1, dtype: float64"
      ]
     },
     "metadata": {},
     "output_type": "display_data"
    },
    {
     "data": {
      "text/plain": [
       "652    0.497512\n",
       "579    0.113402\n",
       "836    0.113402\n",
       "586    0.113402\n",
       "226    0.113402\n",
       "Name: x1, dtype: float64"
      ]
     },
     "metadata": {},
     "output_type": "display_data"
    }
   ],
   "source": [
    "for col, dtype in zip(X_train.columns, X_train.dtypes):\n",
    "    if dtype == object:\n",
    "        S = train.groupby(col)['y'].mean().to_dict()\n",
    "        X_train.loc[:, col] = X_train[col].replace(S)\n",
    "        X_test.loc[:, col] = X_test[col].replace(S)\n",
    "\n",
    "display(X_train['x1'].head())\n",
    "display(X_test['x1'].head())"
   ]
  },
  {
   "cell_type": "markdown",
   "id": "1464c296",
   "metadata": {},
   "source": [
    "### 스케일링"
   ]
  },
  {
   "cell_type": "code",
   "execution_count": 16,
   "id": "74dda339",
   "metadata": {},
   "outputs": [],
   "source": [
    "df = pd.read_csv(\"classification/glass.csv\")\n",
    "X = df.drop('y', axis = 1)\n",
    "y = df['y']\n",
    "X_train, X_test, y_train, y_test = train_test_split(X, y, random_state = 2022)"
   ]
  },
  {
   "cell_type": "code",
   "execution_count": 17,
   "id": "079c88f7",
   "metadata": {
    "scrolled": true
   },
   "outputs": [
    {
     "data": {
      "text/html": [
       "<div>\n",
       "<style scoped>\n",
       "    .dataframe tbody tr th:only-of-type {\n",
       "        vertical-align: middle;\n",
       "    }\n",
       "\n",
       "    .dataframe tbody tr th {\n",
       "        vertical-align: top;\n",
       "    }\n",
       "\n",
       "    .dataframe thead th {\n",
       "        text-align: right;\n",
       "    }\n",
       "</style>\n",
       "<table border=\"1\" class=\"dataframe\">\n",
       "  <thead>\n",
       "    <tr style=\"text-align: right;\">\n",
       "      <th></th>\n",
       "      <th>x1</th>\n",
       "      <th>x2</th>\n",
       "      <th>x3</th>\n",
       "      <th>x4</th>\n",
       "      <th>x5</th>\n",
       "      <th>x6</th>\n",
       "      <th>x7</th>\n",
       "      <th>x8</th>\n",
       "      <th>x9</th>\n",
       "    </tr>\n",
       "  </thead>\n",
       "  <tbody>\n",
       "    <tr>\n",
       "      <th>count</th>\n",
       "      <td>160.000000</td>\n",
       "      <td>160.000000</td>\n",
       "      <td>160.000000</td>\n",
       "      <td>160.000000</td>\n",
       "      <td>160.000000</td>\n",
       "      <td>160.000000</td>\n",
       "      <td>160.000000</td>\n",
       "      <td>160.000000</td>\n",
       "      <td>160.000000</td>\n",
       "    </tr>\n",
       "    <tr>\n",
       "      <th>mean</th>\n",
       "      <td>1.518363</td>\n",
       "      <td>13.440179</td>\n",
       "      <td>2.707666</td>\n",
       "      <td>1.451238</td>\n",
       "      <td>72.623665</td>\n",
       "      <td>0.504136</td>\n",
       "      <td>8.940115</td>\n",
       "      <td>0.180554</td>\n",
       "      <td>0.039174</td>\n",
       "    </tr>\n",
       "    <tr>\n",
       "      <th>std</th>\n",
       "      <td>0.002738</td>\n",
       "      <td>0.770260</td>\n",
       "      <td>1.417633</td>\n",
       "      <td>0.514204</td>\n",
       "      <td>0.776014</td>\n",
       "      <td>0.725813</td>\n",
       "      <td>1.275246</td>\n",
       "      <td>0.500161</td>\n",
       "      <td>0.090792</td>\n",
       "    </tr>\n",
       "    <tr>\n",
       "      <th>min</th>\n",
       "      <td>1.512995</td>\n",
       "      <td>10.730000</td>\n",
       "      <td>0.000000</td>\n",
       "      <td>0.290000</td>\n",
       "      <td>69.810000</td>\n",
       "      <td>0.000000</td>\n",
       "      <td>5.871160</td>\n",
       "      <td>0.000000</td>\n",
       "      <td>0.000000</td>\n",
       "    </tr>\n",
       "    <tr>\n",
       "      <th>25%</th>\n",
       "      <td>1.516560</td>\n",
       "      <td>12.987675</td>\n",
       "      <td>2.197855</td>\n",
       "      <td>1.186393</td>\n",
       "      <td>72.275400</td>\n",
       "      <td>0.111780</td>\n",
       "      <td>8.238360</td>\n",
       "      <td>0.000000</td>\n",
       "      <td>0.000000</td>\n",
       "    </tr>\n",
       "    <tr>\n",
       "      <th>50%</th>\n",
       "      <td>1.517688</td>\n",
       "      <td>13.330150</td>\n",
       "      <td>3.484240</td>\n",
       "      <td>1.363745</td>\n",
       "      <td>72.755600</td>\n",
       "      <td>0.555795</td>\n",
       "      <td>8.609580</td>\n",
       "      <td>0.000000</td>\n",
       "      <td>0.000000</td>\n",
       "    </tr>\n",
       "    <tr>\n",
       "      <th>75%</th>\n",
       "      <td>1.519174</td>\n",
       "      <td>13.873788</td>\n",
       "      <td>3.609960</td>\n",
       "      <td>1.634188</td>\n",
       "      <td>73.044000</td>\n",
       "      <td>0.603922</td>\n",
       "      <td>9.236350</td>\n",
       "      <td>0.000000</td>\n",
       "      <td>0.052275</td>\n",
       "    </tr>\n",
       "    <tr>\n",
       "      <th>max</th>\n",
       "      <td>1.531242</td>\n",
       "      <td>15.790650</td>\n",
       "      <td>4.490000</td>\n",
       "      <td>3.500000</td>\n",
       "      <td>75.180400</td>\n",
       "      <td>6.210000</td>\n",
       "      <td>14.963360</td>\n",
       "      <td>3.150000</td>\n",
       "      <td>0.510000</td>\n",
       "    </tr>\n",
       "  </tbody>\n",
       "</table>\n",
       "</div>"
      ],
      "text/plain": [
       "               x1          x2          x3          x4          x5          x6  \\\n",
       "count  160.000000  160.000000  160.000000  160.000000  160.000000  160.000000   \n",
       "mean     1.518363   13.440179    2.707666    1.451238   72.623665    0.504136   \n",
       "std      0.002738    0.770260    1.417633    0.514204    0.776014    0.725813   \n",
       "min      1.512995   10.730000    0.000000    0.290000   69.810000    0.000000   \n",
       "25%      1.516560   12.987675    2.197855    1.186393   72.275400    0.111780   \n",
       "50%      1.517688   13.330150    3.484240    1.363745   72.755600    0.555795   \n",
       "75%      1.519174   13.873788    3.609960    1.634188   73.044000    0.603922   \n",
       "max      1.531242   15.790650    4.490000    3.500000   75.180400    6.210000   \n",
       "\n",
       "               x7          x8          x9  \n",
       "count  160.000000  160.000000  160.000000  \n",
       "mean     8.940115    0.180554    0.039174  \n",
       "std      1.275246    0.500161    0.090792  \n",
       "min      5.871160    0.000000    0.000000  \n",
       "25%      8.238360    0.000000    0.000000  \n",
       "50%      8.609580    0.000000    0.000000  \n",
       "75%      9.236350    0.000000    0.052275  \n",
       "max     14.963360    3.150000    0.510000  "
      ]
     },
     "metadata": {},
     "output_type": "display_data"
    }
   ],
   "source": [
    "display(X_train.describe())"
   ]
  },
  {
   "cell_type": "markdown",
   "id": "54d00699",
   "metadata": {},
   "source": [
    "#### 최소-최대 정규화"
   ]
  },
  {
   "cell_type": "code",
   "execution_count": 18,
   "id": "b161d026",
   "metadata": {},
   "outputs": [
    {
     "data": {
      "text/html": [
       "<div>\n",
       "<style scoped>\n",
       "    .dataframe tbody tr th:only-of-type {\n",
       "        vertical-align: middle;\n",
       "    }\n",
       "\n",
       "    .dataframe tbody tr th {\n",
       "        vertical-align: top;\n",
       "    }\n",
       "\n",
       "    .dataframe thead th {\n",
       "        text-align: right;\n",
       "    }\n",
       "</style>\n",
       "<table border=\"1\" class=\"dataframe\">\n",
       "  <thead>\n",
       "    <tr style=\"text-align: right;\">\n",
       "      <th></th>\n",
       "      <th>x1</th>\n",
       "      <th>x2</th>\n",
       "      <th>x3</th>\n",
       "      <th>x4</th>\n",
       "      <th>x5</th>\n",
       "      <th>x6</th>\n",
       "      <th>x7</th>\n",
       "      <th>x8</th>\n",
       "      <th>x9</th>\n",
       "    </tr>\n",
       "  </thead>\n",
       "  <tbody>\n",
       "    <tr>\n",
       "      <th>count</th>\n",
       "      <td>160.000000</td>\n",
       "      <td>160.000000</td>\n",
       "      <td>160.000000</td>\n",
       "      <td>160.000000</td>\n",
       "      <td>160.000000</td>\n",
       "      <td>160.000000</td>\n",
       "      <td>160.000000</td>\n",
       "      <td>160.000000</td>\n",
       "      <td>160.000000</td>\n",
       "    </tr>\n",
       "    <tr>\n",
       "      <th>mean</th>\n",
       "      <td>0.294187</td>\n",
       "      <td>0.535540</td>\n",
       "      <td>0.603044</td>\n",
       "      <td>0.361756</td>\n",
       "      <td>0.523921</td>\n",
       "      <td>0.081181</td>\n",
       "      <td>0.337537</td>\n",
       "      <td>0.057319</td>\n",
       "      <td>0.076813</td>\n",
       "    </tr>\n",
       "    <tr>\n",
       "      <th>std</th>\n",
       "      <td>0.150068</td>\n",
       "      <td>0.152206</td>\n",
       "      <td>0.315731</td>\n",
       "      <td>0.160188</td>\n",
       "      <td>0.144498</td>\n",
       "      <td>0.116878</td>\n",
       "      <td>0.140257</td>\n",
       "      <td>0.158781</td>\n",
       "      <td>0.178023</td>\n",
       "    </tr>\n",
       "    <tr>\n",
       "      <th>min</th>\n",
       "      <td>0.000000</td>\n",
       "      <td>0.000000</td>\n",
       "      <td>0.000000</td>\n",
       "      <td>0.000000</td>\n",
       "      <td>0.000000</td>\n",
       "      <td>0.000000</td>\n",
       "      <td>0.000000</td>\n",
       "      <td>0.000000</td>\n",
       "      <td>0.000000</td>\n",
       "    </tr>\n",
       "    <tr>\n",
       "      <th>25%</th>\n",
       "      <td>0.195381</td>\n",
       "      <td>0.446124</td>\n",
       "      <td>0.489500</td>\n",
       "      <td>0.279250</td>\n",
       "      <td>0.459072</td>\n",
       "      <td>0.018000</td>\n",
       "      <td>0.260355</td>\n",
       "      <td>0.000000</td>\n",
       "      <td>0.000000</td>\n",
       "    </tr>\n",
       "    <tr>\n",
       "      <th>50%</th>\n",
       "      <td>0.257179</td>\n",
       "      <td>0.513798</td>\n",
       "      <td>0.776000</td>\n",
       "      <td>0.334500</td>\n",
       "      <td>0.548488</td>\n",
       "      <td>0.089500</td>\n",
       "      <td>0.301183</td>\n",
       "      <td>0.000000</td>\n",
       "      <td>0.000000</td>\n",
       "    </tr>\n",
       "    <tr>\n",
       "      <th>75%</th>\n",
       "      <td>0.338639</td>\n",
       "      <td>0.621222</td>\n",
       "      <td>0.804000</td>\n",
       "      <td>0.418750</td>\n",
       "      <td>0.602190</td>\n",
       "      <td>0.097250</td>\n",
       "      <td>0.370118</td>\n",
       "      <td>0.000000</td>\n",
       "      <td>0.102500</td>\n",
       "    </tr>\n",
       "    <tr>\n",
       "      <th>max</th>\n",
       "      <td>1.000000</td>\n",
       "      <td>1.000000</td>\n",
       "      <td>1.000000</td>\n",
       "      <td>1.000000</td>\n",
       "      <td>1.000000</td>\n",
       "      <td>1.000000</td>\n",
       "      <td>1.000000</td>\n",
       "      <td>1.000000</td>\n",
       "      <td>1.000000</td>\n",
       "    </tr>\n",
       "  </tbody>\n",
       "</table>\n",
       "</div>"
      ],
      "text/plain": [
       "               x1          x2          x3          x4          x5          x6  \\\n",
       "count  160.000000  160.000000  160.000000  160.000000  160.000000  160.000000   \n",
       "mean     0.294187    0.535540    0.603044    0.361756    0.523921    0.081181   \n",
       "std      0.150068    0.152206    0.315731    0.160188    0.144498    0.116878   \n",
       "min      0.000000    0.000000    0.000000    0.000000    0.000000    0.000000   \n",
       "25%      0.195381    0.446124    0.489500    0.279250    0.459072    0.018000   \n",
       "50%      0.257179    0.513798    0.776000    0.334500    0.548488    0.089500   \n",
       "75%      0.338639    0.621222    0.804000    0.418750    0.602190    0.097250   \n",
       "max      1.000000    1.000000    1.000000    1.000000    1.000000    1.000000   \n",
       "\n",
       "               x7          x8          x9  \n",
       "count  160.000000  160.000000  160.000000  \n",
       "mean     0.337537    0.057319    0.076813  \n",
       "std      0.140257    0.158781    0.178023  \n",
       "min      0.000000    0.000000    0.000000  \n",
       "25%      0.260355    0.000000    0.000000  \n",
       "50%      0.301183    0.000000    0.000000  \n",
       "75%      0.370118    0.000000    0.102500  \n",
       "max      1.000000    1.000000    1.000000  "
      ]
     },
     "metadata": {},
     "output_type": "display_data"
    }
   ],
   "source": [
    "from sklearn.preprocessing import MinMaxScaler\n",
    "scaler = MinMaxScaler().fit(X_train)\n",
    "Z_train = pd.DataFrame(scaler.transform(X_train), columns = X_train.columns)\n",
    "Z_test = pd.DataFrame(scaler.transform(X_test), columns = X_test.columns)\n",
    "display(Z_train.describe())"
   ]
  },
  {
   "cell_type": "code",
   "execution_count": 19,
   "id": "66af2761",
   "metadata": {},
   "outputs": [
    {
     "data": {
      "text/html": [
       "<div>\n",
       "<style scoped>\n",
       "    .dataframe tbody tr th:only-of-type {\n",
       "        vertical-align: middle;\n",
       "    }\n",
       "\n",
       "    .dataframe tbody tr th {\n",
       "        vertical-align: top;\n",
       "    }\n",
       "\n",
       "    .dataframe thead th {\n",
       "        text-align: right;\n",
       "    }\n",
       "</style>\n",
       "<table border=\"1\" class=\"dataframe\">\n",
       "  <thead>\n",
       "    <tr style=\"text-align: right;\">\n",
       "      <th></th>\n",
       "      <th>x1</th>\n",
       "      <th>x2</th>\n",
       "      <th>x3</th>\n",
       "      <th>x4</th>\n",
       "      <th>x5</th>\n",
       "      <th>x6</th>\n",
       "      <th>x7</th>\n",
       "      <th>x8</th>\n",
       "      <th>x9</th>\n",
       "    </tr>\n",
       "  </thead>\n",
       "  <tbody>\n",
       "    <tr>\n",
       "      <th>count</th>\n",
       "      <td>1.600000e+02</td>\n",
       "      <td>1.600000e+02</td>\n",
       "      <td>1.600000e+02</td>\n",
       "      <td>1.600000e+02</td>\n",
       "      <td>1.600000e+02</td>\n",
       "      <td>1.600000e+02</td>\n",
       "      <td>1.600000e+02</td>\n",
       "      <td>1.600000e+02</td>\n",
       "      <td>1.600000e+02</td>\n",
       "    </tr>\n",
       "    <tr>\n",
       "      <th>mean</th>\n",
       "      <td>-3.455847e-14</td>\n",
       "      <td>-1.509903e-15</td>\n",
       "      <td>7.285839e-17</td>\n",
       "      <td>-2.081668e-17</td>\n",
       "      <td>1.426012e-14</td>\n",
       "      <td>1.221245e-16</td>\n",
       "      <td>-4.149459e-16</td>\n",
       "      <td>-8.985868e-17</td>\n",
       "      <td>-1.040834e-17</td>\n",
       "    </tr>\n",
       "    <tr>\n",
       "      <th>std</th>\n",
       "      <td>1.003140e+00</td>\n",
       "      <td>1.003140e+00</td>\n",
       "      <td>1.003140e+00</td>\n",
       "      <td>1.003140e+00</td>\n",
       "      <td>1.003140e+00</td>\n",
       "      <td>1.003140e+00</td>\n",
       "      <td>1.003140e+00</td>\n",
       "      <td>1.003140e+00</td>\n",
       "      <td>1.003140e+00</td>\n",
       "    </tr>\n",
       "    <tr>\n",
       "      <th>min</th>\n",
       "      <td>-1.966508e+00</td>\n",
       "      <td>-3.529571e+00</td>\n",
       "      <td>-1.915988e+00</td>\n",
       "      <td>-2.265410e+00</td>\n",
       "      <td>-3.637174e+00</td>\n",
       "      <td>-6.967617e-01</td>\n",
       "      <td>-2.414116e+00</td>\n",
       "      <td>-3.621250e-01</td>\n",
       "      <td>-4.328292e-01</td>\n",
       "    </tr>\n",
       "    <tr>\n",
       "      <th>25%</th>\n",
       "      <td>-6.604750e-01</td>\n",
       "      <td>-5.893132e-01</td>\n",
       "      <td>-3.607508e-01</td>\n",
       "      <td>-5.166751e-01</td>\n",
       "      <td>-4.501959e-01</td>\n",
       "      <td>-5.422714e-01</td>\n",
       "      <td>-5.520178e-01</td>\n",
       "      <td>-3.621250e-01</td>\n",
       "      <td>-4.328292e-01</td>\n",
       "    </tr>\n",
       "    <tr>\n",
       "      <th>50%</th>\n",
       "      <td>-2.473847e-01</td>\n",
       "      <td>-1.432947e-01</td>\n",
       "      <td>5.495160e-01</td>\n",
       "      <td>-1.706856e-01</td>\n",
       "      <td>1.705500e-01</td>\n",
       "      <td>7.139809e-02</td>\n",
       "      <td>-2.600070e-01</td>\n",
       "      <td>-3.621250e-01</td>\n",
       "      <td>-4.328292e-01</td>\n",
       "    </tr>\n",
       "    <tr>\n",
       "      <th>75%</th>\n",
       "      <td>2.971433e-01</td>\n",
       "      <td>5.647055e-01</td>\n",
       "      <td>6.384775e-01</td>\n",
       "      <td>3.569093e-01</td>\n",
       "      <td>5.433594e-01</td>\n",
       "      <td>1.379147e-01</td>\n",
       "      <td>2.330258e-01</td>\n",
       "      <td>-3.621250e-01</td>\n",
       "      <td>1.447460e-01</td>\n",
       "    </tr>\n",
       "    <tr>\n",
       "      <th>max</th>\n",
       "      <td>4.718043e+00</td>\n",
       "      <td>3.061110e+00</td>\n",
       "      <td>1.261208e+00</td>\n",
       "      <td>3.996845e+00</td>\n",
       "      <td>3.305045e+00</td>\n",
       "      <td>7.886029e+00</td>\n",
       "      <td>4.738033e+00</td>\n",
       "      <td>5.955617e+00</td>\n",
       "      <td>5.202050e+00</td>\n",
       "    </tr>\n",
       "  </tbody>\n",
       "</table>\n",
       "</div>"
      ],
      "text/plain": [
       "                 x1            x2            x3            x4            x5  \\\n",
       "count  1.600000e+02  1.600000e+02  1.600000e+02  1.600000e+02  1.600000e+02   \n",
       "mean  -3.455847e-14 -1.509903e-15  7.285839e-17 -2.081668e-17  1.426012e-14   \n",
       "std    1.003140e+00  1.003140e+00  1.003140e+00  1.003140e+00  1.003140e+00   \n",
       "min   -1.966508e+00 -3.529571e+00 -1.915988e+00 -2.265410e+00 -3.637174e+00   \n",
       "25%   -6.604750e-01 -5.893132e-01 -3.607508e-01 -5.166751e-01 -4.501959e-01   \n",
       "50%   -2.473847e-01 -1.432947e-01  5.495160e-01 -1.706856e-01  1.705500e-01   \n",
       "75%    2.971433e-01  5.647055e-01  6.384775e-01  3.569093e-01  5.433594e-01   \n",
       "max    4.718043e+00  3.061110e+00  1.261208e+00  3.996845e+00  3.305045e+00   \n",
       "\n",
       "                 x6            x7            x8            x9  \n",
       "count  1.600000e+02  1.600000e+02  1.600000e+02  1.600000e+02  \n",
       "mean   1.221245e-16 -4.149459e-16 -8.985868e-17 -1.040834e-17  \n",
       "std    1.003140e+00  1.003140e+00  1.003140e+00  1.003140e+00  \n",
       "min   -6.967617e-01 -2.414116e+00 -3.621250e-01 -4.328292e-01  \n",
       "25%   -5.422714e-01 -5.520178e-01 -3.621250e-01 -4.328292e-01  \n",
       "50%    7.139809e-02 -2.600070e-01 -3.621250e-01 -4.328292e-01  \n",
       "75%    1.379147e-01  2.330258e-01 -3.621250e-01  1.447460e-01  \n",
       "max    7.886029e+00  4.738033e+00  5.955617e+00  5.202050e+00  "
      ]
     },
     "metadata": {},
     "output_type": "display_data"
    }
   ],
   "source": [
    "from sklearn.preprocessing import StandardScaler\n",
    "scaler = StandardScaler().fit(X_train)\n",
    "Z_train = pd.DataFrame(scaler.transform(X_train), columns = X_train.columns)\n",
    "Z_test = pd.DataFrame(scaler.transform(X_test), columns = X_test.columns)\n",
    "display(Z_train.describe())"
   ]
  },
  {
   "cell_type": "markdown",
   "id": "6e618f07",
   "metadata": {},
   "source": [
    "### 재샘플링"
   ]
  },
  {
   "cell_type": "code",
   "execution_count": 20,
   "id": "633d5e07",
   "metadata": {},
   "outputs": [],
   "source": [
    "df = pd.read_csv(\"classification/yeast-1_vs_7.csv\")\n",
    "X = df.drop('y', axis = 1)\n",
    "y = df['y']\n",
    "X_train, X_test, y_train, y_test = train_test_split(X, y, random_state = 2022)"
   ]
  },
  {
   "cell_type": "code",
   "execution_count": 21,
   "id": "5544dc2e",
   "metadata": {},
   "outputs": [
    {
     "data": {
      "text/plain": [
       "0    320\n",
       "1     24\n",
       "Name: y, dtype: int64"
      ]
     },
     "metadata": {},
     "output_type": "display_data"
    }
   ],
   "source": [
    "display(y_train.value_counts())"
   ]
  },
  {
   "cell_type": "markdown",
   "id": "5053cdbc",
   "metadata": {},
   "source": [
    "#### SMOTE"
   ]
  },
  {
   "cell_type": "code",
   "execution_count": 22,
   "id": "1f9d03e1",
   "metadata": {},
   "outputs": [],
   "source": [
    "from imblearn.over_sampling import SMOTE\n",
    "smote = SMOTE()\n",
    "s_X_train, s_y_train = smote.fit_resample(X_train, y_train)\n",
    "s_X_train = pd.DataFrame(s_X_train, columns = X_train.columns)\n",
    "s_y_train = pd.Series(s_y_train)"
   ]
  },
  {
   "cell_type": "code",
   "execution_count": 23,
   "id": "ec17a68d",
   "metadata": {},
   "outputs": [
    {
     "data": {
      "text/plain": [
       "0    320\n",
       "1    320\n",
       "Name: y, dtype: int64"
      ]
     },
     "metadata": {},
     "output_type": "display_data"
    }
   ],
   "source": [
    "display(s_y_train.value_counts())"
   ]
  },
  {
   "cell_type": "markdown",
   "id": "0caa0609",
   "metadata": {},
   "source": [
    "#### NearMiss"
   ]
  },
  {
   "cell_type": "code",
   "execution_count": 24,
   "id": "2c6f9e48",
   "metadata": {},
   "outputs": [],
   "source": [
    "from imblearn.under_sampling import NearMiss\n",
    "nm = NearMiss()\n",
    "s_X_train, s_y_train = nm.fit_resample(X_train, y_train)\n",
    "s_X_train = pd.DataFrame(s_X_train, columns = X_train.columns)\n",
    "s_y_train = pd.Series(s_y_train)"
   ]
  },
  {
   "cell_type": "code",
   "execution_count": 25,
   "id": "a68de067",
   "metadata": {},
   "outputs": [
    {
     "data": {
      "text/plain": [
       "0    24\n",
       "1    24\n",
       "Name: y, dtype: int64"
      ]
     },
     "metadata": {},
     "output_type": "display_data"
    }
   ],
   "source": [
    "display(s_y_train.value_counts())"
   ]
  },
  {
   "cell_type": "markdown",
   "id": "456b0650",
   "metadata": {},
   "source": [
    "### 특징 선택"
   ]
  },
  {
   "cell_type": "code",
   "execution_count": 26,
   "id": "5fea5c0b",
   "metadata": {},
   "outputs": [],
   "source": [
    "df = pd.read_csv(\"classification/wdbc.csv\")\n",
    "X = df.drop('y', axis = 1)\n",
    "y = df['y']\n",
    "X_train, X_test, y_train, y_test = train_test_split(X, y, random_state = 2022)"
   ]
  },
  {
   "cell_type": "markdown",
   "id": "132c4977",
   "metadata": {},
   "source": [
    "#### SelectKBest 클래스"
   ]
  },
  {
   "cell_type": "code",
   "execution_count": 27,
   "id": "fcaecb83",
   "metadata": {},
   "outputs": [],
   "source": [
    "from sklearn.feature_selection import *\n",
    "selector = SelectKBest(f_classif, k = 10)\n",
    "selector.fit(X_train, y_train)\n",
    "selected_features = X_train.columns[selector.get_support()]\n",
    "Z_train = X_train.loc[:, selected_features]\n",
    "Z_test = X_test.loc[:, selected_features]"
   ]
  },
  {
   "cell_type": "code",
   "execution_count": 28,
   "id": "cc1e7e06",
   "metadata": {},
   "outputs": [
    {
     "name": "stdout",
     "output_type": "stream",
     "text": [
      "(426, 30)\n",
      "(426, 10)\n"
     ]
    }
   ],
   "source": [
    "print(X_train.shape)\n",
    "print(Z_train.shape)"
   ]
  }
 ],
 "metadata": {
  "kernelspec": {
   "display_name": "Python 3",
   "language": "python",
   "name": "python3"
  },
  "language_info": {
   "codemirror_mode": {
    "name": "ipython",
    "version": 3
   },
   "file_extension": ".py",
   "mimetype": "text/x-python",
   "name": "python",
   "nbconvert_exporter": "python",
   "pygments_lexer": "ipython3",
   "version": "3.8.8"
  }
 },
 "nbformat": 4,
 "nbformat_minor": 5
}
