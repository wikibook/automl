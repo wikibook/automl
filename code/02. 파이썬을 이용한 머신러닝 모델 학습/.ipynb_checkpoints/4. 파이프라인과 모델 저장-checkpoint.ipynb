{
 "cells": [
  {
   "cell_type": "markdown",
   "id": "f42c2ec3",
   "metadata": {},
   "source": [
    "### 머신러닝 파이프라인"
   ]
  },
  {
   "cell_type": "markdown",
   "id": "53b312cb",
   "metadata": {},
   "source": [
    "#### Pipeline 클래스"
   ]
  },
  {
   "cell_type": "code",
   "execution_count": 4,
   "id": "e2ed12a0",
   "metadata": {},
   "outputs": [],
   "source": [
    "import pandas as pd\n",
    "from sklearn.model_selection import train_test_split\n",
    "\n",
    "df = pd.read_csv(\"../../data/Classification/bands.csv\")\n",
    "X = df.drop('y', axis = 1)\n",
    "y = df['y']\n",
    "X_train, X_test, y_train, y_test = train_test_split(X, y, random_state = 2022)"
   ]
  },
  {
   "cell_type": "code",
   "execution_count": 6,
   "id": "a8abaad4",
   "metadata": {},
   "outputs": [],
   "source": [
    "from sklearn.impute import SimpleImputer\n",
    "from sklearn.preprocessing import MinMaxScaler\n",
    "from sklearn.svm import SVC\n",
    "\n",
    "imputer = SimpleImputer(strategy = \"mean\")\n",
    "scaler = MinMaxScaler()\n",
    "model = SVC(kernel = \"rbf\")"
   ]
  },
  {
   "cell_type": "code",
   "execution_count": 9,
   "id": "9856acda",
   "metadata": {},
   "outputs": [
    {
     "data": {
      "text/plain": [
       "Pipeline(steps=[('imputer', SimpleImputer()), ('scaler', MinMaxScaler()),\n",
       "                ('model', SVC())])"
      ]
     },
     "execution_count": 9,
     "metadata": {},
     "output_type": "execute_result"
    }
   ],
   "source": [
    "from sklearn.pipeline import Pipeline\n",
    "P = Pipeline([(\"imputer\", imputer), (\"scaler\", scaler), (\"model\", model)])\n",
    "P.fit(X_train, y_train)"
   ]
  },
  {
   "cell_type": "code",
   "execution_count": 16,
   "id": "5a32fa26",
   "metadata": {},
   "outputs": [
    {
     "data": {
      "text/plain": [
       "array([0, 1, 0, 1, 0, 1, 1, 1, 0, 1, 0, 1, 1, 0, 1, 0, 1, 0, 0, 1, 1, 1,\n",
       "       1, 1, 1, 1, 1, 0, 1, 1, 1, 1, 1, 1, 1, 1, 0, 1, 1, 0, 1, 1, 1, 1,\n",
       "       1, 1, 0, 1, 1, 0, 0, 1, 1, 1, 1, 1, 1, 1, 1, 0, 1, 0, 1, 1, 1, 1,\n",
       "       1, 0, 1, 0, 0, 1, 0, 1, 1, 1, 1, 1, 1, 1, 1, 0, 1, 1, 0, 1, 1, 1,\n",
       "       1, 1, 0, 1, 0, 1, 0, 0, 1, 1, 0, 1, 1, 1, 0, 0, 1, 1, 0, 1, 1, 1,\n",
       "       1, 1, 0, 1, 1, 1, 1, 0, 1, 1, 1, 0, 1, 1, 0, 0, 0, 1, 1, 1, 0, 1,\n",
       "       1, 1, 1], dtype=int64)"
      ]
     },
     "metadata": {},
     "output_type": "display_data"
    }
   ],
   "source": [
    "display(P.predict(X_test))"
   ]
  },
  {
   "cell_type": "code",
   "execution_count": 22,
   "id": "932708cb",
   "metadata": {},
   "outputs": [
    {
     "data": {
      "text/plain": [
       "array([0.31578947, 0.13513514, 0.4175    , 0.39090909, 0.375     ,\n",
       "       0.52919021, 0.16666667, 0.15794469, 0.43137255, 0.40924376,\n",
       "       0.5298976 , 0.10813766, 0.00585399, 0.83333333, 0.35714286,\n",
       "       0.3036564 , 0.66666667, 0.57058481, 1.        ])"
      ]
     },
     "metadata": {},
     "output_type": "display_data"
    }
   ],
   "source": [
    "P = Pipeline([(\"imputer\", imputer), (\"scaler\", scaler)])\n",
    "P.fit(X_train, y_train)\n",
    "display(P.transform(X_test)[0])"
   ]
  },
  {
   "cell_type": "markdown",
   "id": "020c38c1",
   "metadata": {},
   "source": [
    "#### 파이프라인 커스터마이징하기"
   ]
  },
  {
   "cell_type": "code",
   "execution_count": 23,
   "id": "8415b7c8",
   "metadata": {},
   "outputs": [
    {
     "data": {
      "text/plain": [
       "SimpleImputer()"
      ]
     },
     "execution_count": 23,
     "metadata": {},
     "output_type": "execute_result"
    }
   ],
   "source": [
    "imputer.fit(X_train, y_train)\n",
    "scaler.fit(X_train, y_train)\n",
    "model.fit(X_train, y_train)"
   ]
  },
  {
   "cell_type": "code",
   "execution_count": 24,
   "id": "85c88229",
   "metadata": {},
   "outputs": [],
   "source": [
    "def my_pipeline(X, imputer, scaler, model):\n",
    "    X = imputer.transform(X)\n",
    "    X = scaler.transform(X)\n",
    "    pred_Y = model.predict(X)\n",
    "    return pred_Y"
   ]
  },
  {
   "cell_type": "code",
   "execution_count": 28,
   "id": "03b39871",
   "metadata": {},
   "outputs": [
    {
     "data": {
      "text/plain": [
       "array([0, 1, 0, 1, 0], dtype=int64)"
      ]
     },
     "metadata": {},
     "output_type": "display_data"
    }
   ],
   "source": [
    "pred_Y = my_pipeline(X_test, imputer, scaler, model)\n",
    "display(pred_Y[:5])"
   ]
  },
  {
   "cell_type": "markdown",
   "id": "bcd05fd0",
   "metadata": {},
   "source": [
    "### 피클 모듈"
   ]
  },
  {
   "cell_type": "code",
   "execution_count": 32,
   "id": "7d41d0a6",
   "metadata": {},
   "outputs": [],
   "source": [
    "import pickle\n",
    "with open(\"my_pipeline.pckl\", \"wb\") as f:\n",
    "    pickle.dump(imputer, f)\n",
    "    pickle.dump(scaler, f)\n",
    "    pickle.dump(model, f)"
   ]
  },
  {
   "cell_type": "code",
   "execution_count": 33,
   "id": "11903ddf",
   "metadata": {},
   "outputs": [],
   "source": [
    "with open(\"my_pipeline.pckl\", \"rb\") as f:\n",
    "    loaded_imputer = pickle.load(f)\n",
    "    loaded_scaler = pickle.load(f)\n",
    "    loaded_model = pickle.load(f)"
   ]
  },
  {
   "cell_type": "code",
   "execution_count": 35,
   "id": "bc3f45f1",
   "metadata": {},
   "outputs": [],
   "source": [
    "my_pipeline_dict = {\"imputer\":imputer, \"scaler\":scaler, \"model\":model}\n",
    "with open(\"my_pipeline_dict.pckl\", \"wb\") as f:\n",
    "    pickle.dump(my_pipeline_dict, f)"
   ]
  }
 ],
 "metadata": {
  "kernelspec": {
   "display_name": "Python 3",
   "language": "python",
   "name": "python3"
  },
  "language_info": {
   "codemirror_mode": {
    "name": "ipython",
    "version": 3
   },
   "file_extension": ".py",
   "mimetype": "text/x-python",
   "name": "python",
   "nbconvert_exporter": "python",
   "pygments_lexer": "ipython3",
   "version": "3.8.8"
  }
 },
 "nbformat": 4,
 "nbformat_minor": 5
}
