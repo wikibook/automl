{
 "cells": [
  {
   "cell_type": "markdown",
   "id": "85ee6d96",
   "metadata": {},
   "source": [
    "#### 데이터 및 모델"
   ]
  },
  {
   "cell_type": "code",
   "execution_count": 28,
   "id": "9a937d6d",
   "metadata": {},
   "outputs": [],
   "source": [
    "import pandas as pd\n",
    "df = pd.read_csv(\"../../data/classification/wdbc.csv\")\n",
    "df = df.sample(frac = 1, random_state = 2022)\n",
    "X = df.drop('y', axis = 1)\n",
    "y = df['y']"
   ]
  },
  {
   "cell_type": "code",
   "execution_count": 29,
   "id": "97414833",
   "metadata": {},
   "outputs": [],
   "source": [
    "from sklearn.linear_model import LogisticRegression\n",
    "model_instance = LogisticRegression(random_state = 2022)"
   ]
  },
  {
   "cell_type": "code",
   "execution_count": 30,
   "id": "0bddf4db",
   "metadata": {},
   "outputs": [],
   "source": [
    "from sklearn.model_selection import cross_val_score"
   ]
  },
  {
   "cell_type": "code",
   "execution_count": 34,
   "id": "114d9f6d",
   "metadata": {
    "scrolled": true
   },
   "outputs": [
    {
     "data": {
      "text/plain": [
       "array([0.88888889, 0.91358025, 0.91566265, 0.95348837, 0.92857143])"
      ]
     },
     "metadata": {},
     "output_type": "display_data"
    }
   ],
   "source": [
    "result = cross_val_score(model_instance, X, y, cv = 5, scoring = \"f1\")\n",
    "display(result)"
   ]
  },
  {
   "cell_type": "code",
   "execution_count": 33,
   "id": "b8e6da22",
   "metadata": {},
   "outputs": [],
   "source": [
    "import warnings\n",
    "warnings.filterwarnings('ignore')"
   ]
  },
  {
   "cell_type": "markdown",
   "id": "004f9e5f",
   "metadata": {},
   "source": [
    "### 유전 알고리즘 연산자 정의"
   ]
  },
  {
   "cell_type": "markdown",
   "id": "1c89fe02",
   "metadata": {},
   "source": [
    "#### 해 표현 및 초기 해 집단 생성"
   ]
  },
  {
   "cell_type": "code",
   "execution_count": 35,
   "id": "34314fd7",
   "metadata": {},
   "outputs": [],
   "source": [
    "import numpy as np\n",
    "def initialize(n, m):\n",
    "    Z = np.random.choice([0, 1], (n, m))\n",
    "    Z = Z.astype(bool)\n",
    "    return Z"
   ]
  },
  {
   "cell_type": "code",
   "execution_count": 40,
   "id": "6dc56ca7",
   "metadata": {},
   "outputs": [],
   "source": [
    "def fitness(X, y, model, z):\n",
    "    score = cross_val_score(model, X.loc[:, z], y, cv = 5, scoring = \"f1\")\n",
    "    return score.mean()"
   ]
  },
  {
   "cell_type": "markdown",
   "id": "0c55fdad",
   "metadata": {},
   "source": [
    "#### 선택 연산자"
   ]
  },
  {
   "cell_type": "code",
   "execution_count": 75,
   "id": "bd02a09e",
   "metadata": {},
   "outputs": [],
   "source": [
    "def selection(Z, S, k):\n",
    "    selected_index = []\n",
    "    _S = S.copy()\n",
    "    for _ in range(k):\n",
    "        probs = _S / _S.sum()\n",
    "        z_idx = np.random.multinomial(1, probs).argmax()\n",
    "        selected_index.append(z_idx)\n",
    "        _S[z_idx] = 0\n",
    "    return Z[selected_index]"
   ]
  },
  {
   "cell_type": "markdown",
   "id": "19197d7f",
   "metadata": {},
   "source": [
    "#### 교차 연산자"
   ]
  },
  {
   "cell_type": "code",
   "execution_count": null,
   "id": "c72b42ef",
   "metadata": {},
   "outputs": [],
   "source": [
    "def crossover(X1, X2):\n",
    "    point_idx = np.random.choice(range(1, len(X1)))\n",
    "    new_X = np.hstack([X1[:point_idx], X2[point_idx:]])\n",
    "    return new_X.astype(int)"
   ]
  },
  {
   "cell_type": "markdown",
   "id": "a5fe8f39",
   "metadata": {},
   "source": [
    "#### 돌연변이 연산자"
   ]
  },
  {
   "cell_type": "code",
   "execution_count": 62,
   "id": "4b5a7572",
   "metadata": {},
   "outputs": [],
   "source": [
    "def bit_flip(z, p):\n",
    "    probs = np.random.random(len(z))\n",
    "    z[probs < p] = 1 - z[probs < p]\n",
    "    return z"
   ]
  },
  {
   "cell_type": "markdown",
   "id": "c70da312",
   "metadata": {},
   "source": [
    "### 메인 코드"
   ]
  },
  {
   "cell_type": "code",
   "execution_count": 97,
   "id": "8267f88f",
   "metadata": {},
   "outputs": [],
   "source": [
    "def main(n, m, k, p, q, num_generation):\n",
    "    best_score = -1\n",
    "    Z = initialize(n, m) # 초기해 생성\n",
    "    for _ in range(num_generation):\n",
    "        # 해 평가\n",
    "        S = np.array([fitness(X, y, model_instance, z) for z in Z]) \n",
    "        current_best_score = S.max()\n",
    "        current_best_features = Z[S.argmax()]\n",
    "        \n",
    "        # 최고 해 업데이트\n",
    "        if current_best_score > best_score:\n",
    "            best_score = current_best_score\n",
    "            best_features = current_best_features\n",
    "        \n",
    "        # k개 해 선택\n",
    "        Z_new = selection(Z, S, k) \n",
    "        \n",
    "        # 교배 및 돌연변이 연산\n",
    "        children = []\n",
    "        for _ in range(n - k):\n",
    "            parent_idx = np.random.choice(range(k), 2, replace = False)\n",
    "            child = crossover(Z_new[parent_idx[0]], Z_new[parent_idx[1]])\n",
    "            if np.random.random() < q:\n",
    "                child = bit_flip(child, p)\n",
    "            Z_new = np.vstack([Z_new, child])\n",
    "        \n",
    "        Z = Z_new.astype(bool)\n",
    "    \n",
    "    return best_features, best_score"
   ]
  },
  {
   "cell_type": "code",
   "execution_count": 100,
   "id": "6c8bfb9a",
   "metadata": {},
   "outputs": [],
   "source": [
    "n = 20\n",
    "m = X.shape[1]\n",
    "k = 10\n",
    "num_generation = 100\n",
    "p = 0.1\n",
    "q = 0.1"
   ]
  },
  {
   "cell_type": "code",
   "execution_count": 101,
   "id": "05eb620d",
   "metadata": {},
   "outputs": [
    {
     "name": "stdout",
     "output_type": "stream",
     "text": [
      "Index(['x1', 'x3', 'x4', 'x5', 'x6', 'x7', 'x8', 'x9', 'x11', 'x13', 'x14',\n",
      "       'x16', 'x17', 'x18', 'x19', 'x22', 'x23', 'x24', 'x26', 'x27', 'x28',\n",
      "       'x29'],\n",
      "      dtype='object') 0.9420215882509126\n"
     ]
    }
   ],
   "source": [
    "best_features, best_score = main(n, m, k, p, q, num_generation)\n",
    "print(X.columns[best_features], best_score)"
   ]
  }
 ],
 "metadata": {
  "kernelspec": {
   "display_name": "Python 3",
   "language": "python",
   "name": "python3"
  },
  "language_info": {
   "codemirror_mode": {
    "name": "ipython",
    "version": 3
   },
   "file_extension": ".py",
   "mimetype": "text/x-python",
   "name": "python",
   "nbconvert_exporter": "python",
   "pygments_lexer": "ipython3",
   "version": "3.8.8"
  }
 },
 "nbformat": 4,
 "nbformat_minor": 5
}
