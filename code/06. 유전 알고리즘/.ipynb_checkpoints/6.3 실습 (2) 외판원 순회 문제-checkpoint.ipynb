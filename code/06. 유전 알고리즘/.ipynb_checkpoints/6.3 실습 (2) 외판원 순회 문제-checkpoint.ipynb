{
 "cells": [
  {
   "cell_type": "markdown",
   "id": "49c83ee2",
   "metadata": {},
   "source": [
    "### 문제 정의"
   ]
  },
  {
   "cell_type": "code",
   "execution_count": 1,
   "id": "c52824d1",
   "metadata": {
    "scrolled": true
   },
   "outputs": [
    {
     "data": {
      "text/html": [
       "<div>\n",
       "<style scoped>\n",
       "    .dataframe tbody tr th:only-of-type {\n",
       "        vertical-align: middle;\n",
       "    }\n",
       "\n",
       "    .dataframe tbody tr th {\n",
       "        vertical-align: top;\n",
       "    }\n",
       "\n",
       "    .dataframe thead th {\n",
       "        text-align: right;\n",
       "    }\n",
       "</style>\n",
       "<table border=\"1\" class=\"dataframe\">\n",
       "  <thead>\n",
       "    <tr style=\"text-align: right;\">\n",
       "      <th></th>\n",
       "      <th>S</th>\n",
       "      <th>A</th>\n",
       "      <th>B</th>\n",
       "      <th>C</th>\n",
       "      <th>D</th>\n",
       "      <th>E</th>\n",
       "      <th>F</th>\n",
       "      <th>G</th>\n",
       "      <th>H</th>\n",
       "      <th>I</th>\n",
       "      <th>J</th>\n",
       "    </tr>\n",
       "  </thead>\n",
       "  <tbody>\n",
       "    <tr>\n",
       "      <th>S</th>\n",
       "      <td>0</td>\n",
       "      <td>14</td>\n",
       "      <td>17</td>\n",
       "      <td>23</td>\n",
       "      <td>21</td>\n",
       "      <td>18</td>\n",
       "      <td>17</td>\n",
       "      <td>3</td>\n",
       "      <td>25</td>\n",
       "      <td>15</td>\n",
       "      <td>22</td>\n",
       "    </tr>\n",
       "    <tr>\n",
       "      <th>A</th>\n",
       "      <td>14</td>\n",
       "      <td>0</td>\n",
       "      <td>2</td>\n",
       "      <td>3</td>\n",
       "      <td>9</td>\n",
       "      <td>16</td>\n",
       "      <td>18</td>\n",
       "      <td>27</td>\n",
       "      <td>1</td>\n",
       "      <td>22</td>\n",
       "      <td>6</td>\n",
       "    </tr>\n",
       "    <tr>\n",
       "      <th>B</th>\n",
       "      <td>17</td>\n",
       "      <td>2</td>\n",
       "      <td>0</td>\n",
       "      <td>6</td>\n",
       "      <td>20</td>\n",
       "      <td>10</td>\n",
       "      <td>15</td>\n",
       "      <td>23</td>\n",
       "      <td>5</td>\n",
       "      <td>28</td>\n",
       "      <td>10</td>\n",
       "    </tr>\n",
       "    <tr>\n",
       "      <th>C</th>\n",
       "      <td>23</td>\n",
       "      <td>3</td>\n",
       "      <td>6</td>\n",
       "      <td>0</td>\n",
       "      <td>27</td>\n",
       "      <td>12</td>\n",
       "      <td>12</td>\n",
       "      <td>3</td>\n",
       "      <td>29</td>\n",
       "      <td>23</td>\n",
       "      <td>1</td>\n",
       "    </tr>\n",
       "    <tr>\n",
       "      <th>D</th>\n",
       "      <td>21</td>\n",
       "      <td>9</td>\n",
       "      <td>20</td>\n",
       "      <td>27</td>\n",
       "      <td>0</td>\n",
       "      <td>15</td>\n",
       "      <td>5</td>\n",
       "      <td>19</td>\n",
       "      <td>22</td>\n",
       "      <td>29</td>\n",
       "      <td>11</td>\n",
       "    </tr>\n",
       "    <tr>\n",
       "      <th>E</th>\n",
       "      <td>18</td>\n",
       "      <td>16</td>\n",
       "      <td>10</td>\n",
       "      <td>12</td>\n",
       "      <td>15</td>\n",
       "      <td>0</td>\n",
       "      <td>12</td>\n",
       "      <td>15</td>\n",
       "      <td>15</td>\n",
       "      <td>20</td>\n",
       "      <td>10</td>\n",
       "    </tr>\n",
       "    <tr>\n",
       "      <th>F</th>\n",
       "      <td>17</td>\n",
       "      <td>18</td>\n",
       "      <td>15</td>\n",
       "      <td>12</td>\n",
       "      <td>5</td>\n",
       "      <td>12</td>\n",
       "      <td>0</td>\n",
       "      <td>14</td>\n",
       "      <td>24</td>\n",
       "      <td>9</td>\n",
       "      <td>8</td>\n",
       "    </tr>\n",
       "    <tr>\n",
       "      <th>G</th>\n",
       "      <td>3</td>\n",
       "      <td>27</td>\n",
       "      <td>23</td>\n",
       "      <td>3</td>\n",
       "      <td>19</td>\n",
       "      <td>15</td>\n",
       "      <td>14</td>\n",
       "      <td>0</td>\n",
       "      <td>27</td>\n",
       "      <td>15</td>\n",
       "      <td>26</td>\n",
       "    </tr>\n",
       "    <tr>\n",
       "      <th>H</th>\n",
       "      <td>25</td>\n",
       "      <td>1</td>\n",
       "      <td>5</td>\n",
       "      <td>29</td>\n",
       "      <td>22</td>\n",
       "      <td>15</td>\n",
       "      <td>24</td>\n",
       "      <td>27</td>\n",
       "      <td>0</td>\n",
       "      <td>9</td>\n",
       "      <td>24</td>\n",
       "    </tr>\n",
       "    <tr>\n",
       "      <th>I</th>\n",
       "      <td>15</td>\n",
       "      <td>22</td>\n",
       "      <td>28</td>\n",
       "      <td>23</td>\n",
       "      <td>29</td>\n",
       "      <td>20</td>\n",
       "      <td>9</td>\n",
       "      <td>15</td>\n",
       "      <td>9</td>\n",
       "      <td>0</td>\n",
       "      <td>28</td>\n",
       "    </tr>\n",
       "    <tr>\n",
       "      <th>J</th>\n",
       "      <td>22</td>\n",
       "      <td>6</td>\n",
       "      <td>10</td>\n",
       "      <td>1</td>\n",
       "      <td>11</td>\n",
       "      <td>10</td>\n",
       "      <td>8</td>\n",
       "      <td>26</td>\n",
       "      <td>24</td>\n",
       "      <td>28</td>\n",
       "      <td>0</td>\n",
       "    </tr>\n",
       "  </tbody>\n",
       "</table>\n",
       "</div>"
      ],
      "text/plain": [
       "    S   A   B   C   D   E   F   G   H   I   J\n",
       "S   0  14  17  23  21  18  17   3  25  15  22\n",
       "A  14   0   2   3   9  16  18  27   1  22   6\n",
       "B  17   2   0   6  20  10  15  23   5  28  10\n",
       "C  23   3   6   0  27  12  12   3  29  23   1\n",
       "D  21   9  20  27   0  15   5  19  22  29  11\n",
       "E  18  16  10  12  15   0  12  15  15  20  10\n",
       "F  17  18  15  12   5  12   0  14  24   9   8\n",
       "G   3  27  23   3  19  15  14   0  27  15  26\n",
       "H  25   1   5  29  22  15  24  27   0   9  24\n",
       "I  15  22  28  23  29  20   9  15   9   0  28\n",
       "J  22   6  10   1  11  10   8  26  24  28   0"
      ]
     },
     "metadata": {},
     "output_type": "display_data"
    }
   ],
   "source": [
    "import pandas as pd\n",
    "data = pd.read_csv(\"외판원순회문제.csv\", index_col = 0)\n",
    "display(data)"
   ]
  },
  {
   "cell_type": "code",
   "execution_count": 2,
   "id": "d45374e5",
   "metadata": {},
   "outputs": [
    {
     "name": "stdout",
     "output_type": "stream",
     "text": [
      "34\n"
     ]
    }
   ],
   "source": [
    "print(data.loc[\"H\", \"J\"] + data.loc[\"J\", \"B\"])"
   ]
  },
  {
   "cell_type": "markdown",
   "id": "29935a29",
   "metadata": {},
   "source": [
    "### 유전 알고리즘 연산자 정의"
   ]
  },
  {
   "cell_type": "markdown",
   "id": "f2d1ed18",
   "metadata": {},
   "source": [
    "#### 해 표현 및 초기 해 집단 생성"
   ]
  },
  {
   "cell_type": "code",
   "execution_count": 12,
   "id": "00c719c0",
   "metadata": {},
   "outputs": [],
   "source": [
    "import numpy as np\n",
    "def initialize(n, points):\n",
    "    X = [np.random.permutation(points) for _ in range(n)]\n",
    "    X = np.array(X)\n",
    "    return X"
   ]
  },
  {
   "cell_type": "markdown",
   "id": "0a7eb1ee",
   "metadata": {},
   "source": [
    "#### 적합도 함수"
   ]
  },
  {
   "cell_type": "code",
   "execution_count": 13,
   "id": "e80587a6",
   "metadata": {},
   "outputs": [],
   "source": [
    "def fitness(data, x):\n",
    "    score = data.loc[\"S\", x[0]]\n",
    "    for i in range(1, len(x)-1):\n",
    "        score += data.loc[x[i], x[i+1]]\n",
    "    score += data.loc[x[-1], \"S\"]\n",
    "    return 1/score"
   ]
  },
  {
   "cell_type": "markdown",
   "id": "4d5042e5",
   "metadata": {},
   "source": [
    "#### 선택 연산자"
   ]
  },
  {
   "cell_type": "code",
   "execution_count": 14,
   "id": "bf38bc66",
   "metadata": {},
   "outputs": [],
   "source": [
    "def selection(X, S, k):\n",
    "    selected_index = []\n",
    "    _S = S.copy()\n",
    "    for _ in range(k):\n",
    "        probs = _S / _S.sum()\n",
    "        x_idx = np.random.multinomial(1, probs).argmax()\n",
    "        selected_index.append(x_idx)\n",
    "        _S[x_idx] = 0\n",
    "    return X[selected_index]"
   ]
  },
  {
   "cell_type": "markdown",
   "id": "7f8b853e",
   "metadata": {},
   "source": [
    "#### 교차 연산자"
   ]
  },
  {
   "cell_type": "code",
   "execution_count": 20,
   "id": "1f8781fa",
   "metadata": {},
   "outputs": [],
   "source": [
    "def crossover(x1, x2):\n",
    "    start_idx = np.random.choice(range(0, len(x1)))\n",
    "    end_idx = np.random.choice(range(start_idx+1, len(x1) + 1))\n",
    "    new_x = np.empty(len(x1), dtype = object)\n",
    "    new_x[start_idx:end_idx] = x1[start_idx:end_idx]\n",
    "    new_x[~np.isin(x1, x1[start_idx:end_idx])] = x2[~np.isin(x2, x1[start_idx:end_idx])]\n",
    "    return new_x                      "
   ]
  },
  {
   "cell_type": "markdown",
   "id": "c4c11cc6",
   "metadata": {},
   "source": [
    "#### 돌연변이 연산자"
   ]
  },
  {
   "cell_type": "code",
   "execution_count": 21,
   "id": "ca87c8ae",
   "metadata": {},
   "outputs": [],
   "source": [
    "def mutation(x):\n",
    "    a, b = np.random.choice(range(len(x)), 2, replace = False)\n",
    "    (x[b], x[a]) = (x[a], x[b])\n",
    "    return x"
   ]
  },
  {
   "cell_type": "markdown",
   "id": "dab100ef",
   "metadata": {},
   "source": [
    "### 메인"
   ]
  },
  {
   "cell_type": "code",
   "execution_count": 35,
   "id": "9cd92b03",
   "metadata": {},
   "outputs": [],
   "source": [
    "def main(n, data, points, k, q, num_generation):\n",
    "    best_score = -1\n",
    "    X = initialize(n, points) # 초기해 생성\n",
    "    for _ in range(num_generation):\n",
    "        # 해 평가\n",
    "        S = np.array([fitness(data, x) for x in X]) \n",
    "        current_best_score = S.max()\n",
    "        current_best_x = X[S.argmax()]\n",
    "        \n",
    "        # 최고 해 업데이트\n",
    "        if current_best_score > best_score:\n",
    "            best_score = current_best_score\n",
    "            best_x = current_best_x\n",
    "        \n",
    "        # k개 해 선택\n",
    "        X_new = selection(X, S, k)\n",
    "        \n",
    "        # 교배 및 돌연변이 연산\n",
    "        children = []\n",
    "        for _ in range(n - k):\n",
    "            parent_idx = np.random.choice(range(k), 2, replace = False)\n",
    "            child = crossover(X_new[parent_idx[0]], X_new[parent_idx[1]])\n",
    "            if np.random.random() < q:\n",
    "                child = mutation(child)\n",
    "            X_new = np.vstack([X_new, child])\n",
    "        X = X_new\n",
    "    return best_x, best_score"
   ]
  },
  {
   "cell_type": "code",
   "execution_count": 52,
   "id": "bec67663",
   "metadata": {},
   "outputs": [],
   "source": [
    "n = 100\n",
    "num_generation = 100\n",
    "points = data.columns[1:]\n",
    "k = 60\n",
    "q = 0.05"
   ]
  },
  {
   "cell_type": "code",
   "execution_count": 53,
   "id": "bb7ee094",
   "metadata": {
    "scrolled": true
   },
   "outputs": [
    {
     "name": "stdout",
     "output_type": "stream",
     "text": [
      "['G' 'I' 'F' 'D' 'A' 'H' 'B' 'C' 'J' 'E'] 67.0\n"
     ]
    }
   ],
   "source": [
    "GA_best_x, GA_best_score = main(n, data, points, k, q, num_generation)\n",
    "print(GA_best_x, 1/GA_best_score)"
   ]
  },
  {
   "cell_type": "code",
   "execution_count": 54,
   "id": "0f12e209",
   "metadata": {},
   "outputs": [
    {
     "name": "stdout",
     "output_type": "stream",
     "text": [
      "['I' 'H' 'A' 'B' 'J' 'E' 'D' 'F' 'C' 'G'] 76.0\n"
     ]
    }
   ],
   "source": [
    "# 임의 탐색\n",
    "RS_best_score = -1\n",
    "for x in initialize(10000, data.columns[1:]):\n",
    "    score = fitness(data, x)\n",
    "    if score > RS_best_score:\n",
    "        RS_best_score = score\n",
    "        RS_best_x = x\n",
    "        \n",
    "print(RS_best_x, 1/RS_best_score)"
   ]
  }
 ],
 "metadata": {
  "kernelspec": {
   "display_name": "Python 3",
   "language": "python",
   "name": "python3"
  },
  "language_info": {
   "codemirror_mode": {
    "name": "ipython",
    "version": 3
   },
   "file_extension": ".py",
   "mimetype": "text/x-python",
   "name": "python",
   "nbconvert_exporter": "python",
   "pygments_lexer": "ipython3",
   "version": "3.8.8"
  }
 },
 "nbformat": 4,
 "nbformat_minor": 5
}
