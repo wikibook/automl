{
 "cells": [
  {
   "cell_type": "markdown",
   "id": "004f9e5f",
   "metadata": {},
   "source": [
    "### 해 표현"
   ]
  },
  {
   "cell_type": "markdown",
   "id": "1c89fe02",
   "metadata": {},
   "source": [
    "#### 이진 인코딩"
   ]
  },
  {
   "cell_type": "code",
   "execution_count": 1,
   "id": "34314fd7",
   "metadata": {},
   "outputs": [],
   "source": [
    "import numpy as np\n",
    "def binary_init(n, m, bool_type = False):\n",
    "    X = np.random.choice([0, 1], (n, m))\n",
    "    if bool_type:\n",
    "        X = X.astype(bool)\n",
    "    return X"
   ]
  },
  {
   "cell_type": "code",
   "execution_count": 2,
   "id": "e8031380",
   "metadata": {},
   "outputs": [
    {
     "data": {
      "text/plain": [
       "array([[1, 1, 0],\n",
       "       [1, 0, 0],\n",
       "       [1, 0, 1],\n",
       "       [0, 1, 1],\n",
       "       [0, 0, 1]])"
      ]
     },
     "metadata": {},
     "output_type": "display_data"
    },
    {
     "data": {
      "text/plain": [
       "array([[ True, False,  True],\n",
       "       [ True,  True,  True],\n",
       "       [ True,  True, False],\n",
       "       [False,  True,  True],\n",
       "       [False, False, False]])"
      ]
     },
     "metadata": {},
     "output_type": "display_data"
    }
   ],
   "source": [
    "n = 5\n",
    "m = 3\n",
    "display(binary_init(n, m, bool_type = False))\n",
    "display(binary_init(n, m, bool_type = True))"
   ]
  },
  {
   "cell_type": "markdown",
   "id": "d1f24a58",
   "metadata": {},
   "source": [
    "#### 순열 인코딩"
   ]
  },
  {
   "cell_type": "code",
   "execution_count": 3,
   "id": "41616c34",
   "metadata": {},
   "outputs": [],
   "source": [
    "def permutation_init(n, m):\n",
    "    X = [np.random.permutation(m) for _ in range(n)]\n",
    "    X = np.array(X)\n",
    "    return X"
   ]
  },
  {
   "cell_type": "code",
   "execution_count": 4,
   "id": "950eba05",
   "metadata": {},
   "outputs": [
    {
     "data": {
      "text/plain": [
       "array([[3, 2, 0, 4, 1],\n",
       "       [4, 2, 3, 0, 1]])"
      ]
     },
     "execution_count": 4,
     "metadata": {},
     "output_type": "execute_result"
    }
   ],
   "source": [
    "n = 2\n",
    "m = 5\n",
    "permutation_init(n, m)"
   ]
  },
  {
   "cell_type": "markdown",
   "id": "0c55fdad",
   "metadata": {},
   "source": [
    "### 해 선택"
   ]
  },
  {
   "cell_type": "code",
   "execution_count": 5,
   "id": "ada17b8c",
   "metadata": {},
   "outputs": [],
   "source": [
    "def fitness(x):\n",
    "    return sum(x * np.array([10, 1, 2, 5])) + 3"
   ]
  },
  {
   "cell_type": "code",
   "execution_count": 6,
   "id": "915c0e38",
   "metadata": {},
   "outputs": [
    {
     "data": {
      "text/plain": [
       "array([20, 14, 19,  3, 20])"
      ]
     },
     "metadata": {},
     "output_type": "display_data"
    }
   ],
   "source": [
    "X = binary_init(5, 4, bool_type = False)\n",
    "S = np.apply_along_axis(fitness, 1, X)\n",
    "display(S)"
   ]
  },
  {
   "cell_type": "markdown",
   "id": "223426f0",
   "metadata": {},
   "source": [
    "#### 룰렛 휠 선택"
   ]
  },
  {
   "cell_type": "code",
   "execution_count": 7,
   "id": "bd02a09e",
   "metadata": {},
   "outputs": [],
   "source": [
    "def roulette_wheel(X, S, k):\n",
    "    selected_index = []\n",
    "    _S = S.copy()\n",
    "    for _ in range(k):\n",
    "        probs = _S / _S.sum()\n",
    "        x_idx = np.random.multinomial(1, probs).argmax()\n",
    "        selected_index.append(x_idx)\n",
    "        _S[x_idx] = 0\n",
    "    return X[selected_index]"
   ]
  },
  {
   "cell_type": "code",
   "execution_count": 8,
   "id": "aa246237",
   "metadata": {},
   "outputs": [
    {
     "data": {
      "text/plain": [
       "array([[1, 0, 1, 1],\n",
       "       [1, 1, 0, 1],\n",
       "       [1, 1, 0, 0]])"
      ]
     },
     "metadata": {},
     "output_type": "display_data"
    }
   ],
   "source": [
    "selected_X = roulette_wheel(X, S, 3)\n",
    "display(selected_X)"
   ]
  },
  {
   "cell_type": "markdown",
   "id": "3d7d1683",
   "metadata": {},
   "source": [
    "#### 순위 선택"
   ]
  },
  {
   "cell_type": "code",
   "execution_count": 9,
   "id": "4c6367f6",
   "metadata": {},
   "outputs": [],
   "source": [
    "from scipy.stats import rankdata\n",
    "def rank_selection(X, S, k):\n",
    "    rank = rankdata(S)\n",
    "    return roulette_wheel(X, rank, k)"
   ]
  },
  {
   "cell_type": "code",
   "execution_count": 10,
   "id": "0b952071",
   "metadata": {},
   "outputs": [
    {
     "data": {
      "text/plain": [
       "array([[1, 1, 0, 0],\n",
       "       [1, 0, 1, 1],\n",
       "       [1, 0, 1, 1]])"
      ]
     },
     "metadata": {},
     "output_type": "display_data"
    }
   ],
   "source": [
    "display(rank_selection(X, S, 3))"
   ]
  },
  {
   "cell_type": "markdown",
   "id": "572f69ac",
   "metadata": {},
   "source": [
    "#### 엘리트주의"
   ]
  },
  {
   "cell_type": "code",
   "execution_count": 11,
   "id": "e412dc7b",
   "metadata": {},
   "outputs": [],
   "source": [
    "def elitism(X, S, k1, k2):\n",
    "    elite_index = (-S).argsort()[:k1]\n",
    "    not_elite_index = (-S).argsort()[k1:] \n",
    "    selected_X1 = X[elite_index]\n",
    "    selected_X2 = roulette_wheel(X[not_elite_index], S[not_elite_index], k2)\n",
    "    selected_X = np.vstack([selected_X1, selected_X2])\n",
    "    return selected_X"
   ]
  },
  {
   "cell_type": "code",
   "execution_count": 12,
   "id": "0af02c45",
   "metadata": {},
   "outputs": [
    {
     "data": {
      "text/plain": [
       "array([[1, 0, 1, 1],\n",
       "       [1, 0, 1, 1],\n",
       "       [1, 1, 0, 1]])"
      ]
     },
     "metadata": {},
     "output_type": "display_data"
    }
   ],
   "source": [
    "display(elitism(X, S, 2, 1))"
   ]
  },
  {
   "cell_type": "markdown",
   "id": "f6c7b07b",
   "metadata": {},
   "source": [
    "### 교차 연산"
   ]
  },
  {
   "cell_type": "markdown",
   "id": "22a67eee",
   "metadata": {},
   "source": [
    "#### 이진 인코딩에 대한 교차 연산자"
   ]
  },
  {
   "cell_type": "code",
   "execution_count": 13,
   "id": "70a548b9",
   "metadata": {},
   "outputs": [],
   "source": [
    "def binary_crossover(X1, X2, num_points):\n",
    "    point_idx_list = np.random.choice(range(1, len(X1)), num_points, replace = False)\n",
    "    point_idx_list = np.insert(point_idx_list, 0, 0)\n",
    "    point_idx_list = np.insert(point_idx_list, num_points, len(X1))\n",
    "    point_idx_list.sort()\n",
    "    new_X = np.array([])\n",
    "    parent_idx = 0\n",
    "    for start_idx, end_idx in zip(point_idx_list[:-1], point_idx_list[1:]):\n",
    "        if parent_idx == 0:\n",
    "            new_X = np.hstack([new_X, X1[start_idx:end_idx]])\n",
    "        else:\n",
    "            new_X = np.hstack([new_X, X2[start_idx:end_idx]])\n",
    "        parent_idx = 1 - parent_idx\n",
    "    return new_X.astype(int)"
   ]
  },
  {
   "cell_type": "code",
   "execution_count": 14,
   "id": "1d2018ad",
   "metadata": {},
   "outputs": [
    {
     "data": {
      "text/plain": [
       "array([0, 1, 1, 1, 0])"
      ]
     },
     "execution_count": 14,
     "metadata": {},
     "output_type": "execute_result"
    }
   ],
   "source": [
    "a = [0, 0, 0, 0, 0]\n",
    "b = [1, 1, 1, 1, 1]\n",
    "binary_crossover(a, b, 2)"
   ]
  },
  {
   "cell_type": "markdown",
   "id": "0f9d7081",
   "metadata": {},
   "source": [
    "#### 순열 인코딩에 대한 교차 연산자"
   ]
  },
  {
   "cell_type": "code",
   "execution_count": 47,
   "id": "a9af4f05",
   "metadata": {},
   "outputs": [],
   "source": [
    "def order_crossover(X1, X2):\n",
    "    start_idx = np.random.choice(range(0, len(X1)))\n",
    "    end_idx = np.random.choice(range(start_idx+1, len(X1) + 1))\n",
    "    new_X = np.empty(len(X1))\n",
    "    new_X[start_idx:end_idx] = X1[start_idx:end_idx]\n",
    "    new_X[~np.isin(X1, X1[start_idx:end_idx])] = X2[~np.isin(X1, X1[start_idx:end_idx])]\n",
    "    return new_X.astype(int)                      "
   ]
  },
  {
   "cell_type": "code",
   "execution_count": 48,
   "id": "0a500e83",
   "metadata": {},
   "outputs": [
    {
     "data": {
      "text/plain": [
       "array([10,  9,  8,  7,  6,  5,  4,  3,  2,  9])"
      ]
     },
     "metadata": {},
     "output_type": "display_data"
    }
   ],
   "source": [
    "X1 = np.arange(10)\n",
    "X2 = np.arange(10, 0, -1)\n",
    "display(order_crossover(X1, X2))"
   ]
  },
  {
   "cell_type": "markdown",
   "id": "6e988b64",
   "metadata": {},
   "source": [
    "### 돌연변이 연산"
   ]
  },
  {
   "cell_type": "markdown",
   "id": "ae1a0965",
   "metadata": {},
   "source": [
    "#### 이진 인코딩에 대한 돌연변이 연산자"
   ]
  },
  {
   "cell_type": "code",
   "execution_count": 17,
   "id": "ce6a1c9d",
   "metadata": {},
   "outputs": [],
   "source": [
    "def bit_flip(x, p):\n",
    "    probs = np.random.random(len(x))\n",
    "    x[probs < p] = 1 - x[probs < p]\n",
    "    return x"
   ]
  },
  {
   "cell_type": "code",
   "execution_count": 18,
   "id": "1eb923b9",
   "metadata": {},
   "outputs": [
    {
     "data": {
      "text/plain": [
       "array([1, 1, 1, 1, 1, 0])"
      ]
     },
     "metadata": {},
     "output_type": "display_data"
    }
   ],
   "source": [
    "x = np.array([0, 1, 0, 1, 0, 1])\n",
    "display(bit_flip(x, 0.5))"
   ]
  },
  {
   "cell_type": "markdown",
   "id": "a4007ac5",
   "metadata": {},
   "source": [
    "#### 순열 인코딩에 대한 돌연변이 연산자"
   ]
  },
  {
   "cell_type": "code",
   "execution_count": 19,
   "id": "72b32fe9",
   "metadata": {},
   "outputs": [],
   "source": [
    "def order_changing(x):\n",
    "    a, b = np.random.choice(range(len(x)), 2, replace = False)\n",
    "    (x[b], x[a]) = (x[a], x[b])\n",
    "    return x"
   ]
  },
  {
   "cell_type": "code",
   "execution_count": 20,
   "id": "49b7fea2",
   "metadata": {},
   "outputs": [
    {
     "data": {
      "text/plain": [
       "array([1, 0, 2, 3, 4])"
      ]
     },
     "metadata": {},
     "output_type": "display_data"
    }
   ],
   "source": [
    "x = np.array([0, 1, 2, 3, 4])\n",
    "display(order_changing(x))"
   ]
  },
  {
   "cell_type": "code",
   "execution_count": 307,
   "id": "7efad584",
   "metadata": {},
   "outputs": [],
   "source": [
    "def repeated_order_changing(x, num_repeat):\n",
    "    for _ in range(num_repeat):\n",
    "        a, b = np.random.choice(range(len(x)), 2, replace = False)\n",
    "        (x[b], x[a]) = (x[a], x[b])\n",
    "    return x"
   ]
  },
  {
   "cell_type": "code",
   "execution_count": 306,
   "id": "fa9d2afa",
   "metadata": {},
   "outputs": [
    {
     "data": {
      "text/plain": [
       "array([4, 0, 2, 3, 1])"
      ]
     },
     "metadata": {},
     "output_type": "display_data"
    }
   ],
   "source": [
    "display(repeated_order_changing(x, 2))"
   ]
  }
 ],
 "metadata": {
  "kernelspec": {
   "display_name": "Python 3",
   "language": "python",
   "name": "python3"
  },
  "language_info": {
   "codemirror_mode": {
    "name": "ipython",
    "version": 3
   },
   "file_extension": ".py",
   "mimetype": "text/x-python",
   "name": "python",
   "nbconvert_exporter": "python",
   "pygments_lexer": "ipython3",
   "version": "3.8.8"
  }
 },
 "nbformat": 4,
 "nbformat_minor": 5
}
