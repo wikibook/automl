{
 "cells": [
  {
   "cell_type": "markdown",
   "id": "4c70a315",
   "metadata": {},
   "source": [
    "#### 사용 데이터"
   ]
  },
  {
   "cell_type": "code",
   "execution_count": 1,
   "id": "03a08435",
   "metadata": {},
   "outputs": [],
   "source": [
    "import pandas as pd\n",
    "df = pd.read_csv(\"../../data/classification/vehicle.csv\")\n",
    "X = df.drop('y', axis = 1)\n",
    "y = df['y']"
   ]
  },
  {
   "cell_type": "markdown",
   "id": "8e8d9960",
   "metadata": {},
   "source": [
    "#### 목적 함수 정의"
   ]
  },
  {
   "cell_type": "code",
   "execution_count": 2,
   "id": "85e8e6a3",
   "metadata": {},
   "outputs": [],
   "source": [
    "from sklearn.model_selection import cross_val_score\n",
    "from lightgbm import LGBMClassifier as LGBC\n",
    "def obj_func(parameter):\n",
    "    model = LGBC(random_state = 2022,\n",
    "                 n_estimators = int(parameter[0]),\n",
    "                 learning_rate = parameter[1],\n",
    "                 num_leaves = int(parameter[2]))\n",
    "    \n",
    "    score = cross_val_score(model, X, y, scoring = \"accuracy\", cv = 5).mean()\n",
    "    return score"
   ]
  },
  {
   "cell_type": "markdown",
   "id": "2ba00061",
   "metadata": {},
   "source": [
    "#### 샘플러 정의"
   ]
  },
  {
   "cell_type": "code",
   "execution_count": 7,
   "id": "3d5801dd",
   "metadata": {},
   "outputs": [],
   "source": [
    "import numpy as np\n",
    "from scipy.stats import uniform\n",
    "def sampler(n):\n",
    "    n_estimator = np.random.randint(10, 100, n)\n",
    "    learning_rate = uniform(0.001, 0.5).rvs(n)\n",
    "    num_leaves = np.random.randint(20, 120, n)\n",
    "    parameter_arr = np.vstack([n_estimator, learning_rate,  num_leaves]).T\n",
    "    return parameter_arr"
   ]
  },
  {
   "cell_type": "markdown",
   "id": "bcaa537b",
   "metadata": {},
   "source": [
    "#### 획득 함수 정의"
   ]
  },
  {
   "cell_type": "code",
   "execution_count": 8,
   "id": "4a89996d",
   "metadata": {},
   "outputs": [],
   "source": [
    "from scipy.stats import norm\n",
    "def EI(X_new, model, best_mu, e = 0.01):\n",
    "    mu, sigma = model.predict(X_new, return_std = True)\n",
    "    z = np.zeros(len(X_new))\n",
    "    z[sigma > 0] = ((mu - best_mu - e) / sigma)[sigma > 0]\n",
    "    return (mu - best_mu - e) * norm.cdf(z) + sigma * norm.pdf(z)"
   ]
  },
  {
   "cell_type": "markdown",
   "id": "1e5d1370",
   "metadata": {},
   "source": [
    "#### 메인"
   ]
  },
  {
   "cell_type": "code",
   "execution_count": 9,
   "id": "1fb2eae7",
   "metadata": {},
   "outputs": [],
   "source": [
    "from sklearn.gaussian_process import GaussianProcessRegressor as GPR\n",
    "from sklearn.gaussian_process.kernels import RBF, WhiteKernel\n",
    "\n",
    "def main(n1, n2, k, num_iter):\n",
    "    P = sampler(n1)\n",
    "    E = np.apply_along_axis(obj_func, axis = 1, arr = P)\n",
    "    for _ in range(num_iter):\n",
    "        model = GPR(kernel=RBF() + WhiteKernel(), random_state=2022).fit(P, E)\n",
    "        best_mu = max(model.predict(P))\n",
    "        P_new = sampler(n2)\n",
    "        score_list = EI(P_new, model, best_mu)\n",
    "        \n",
    "        P_new_star = P_new[(-score_list.argsort())[:k]]\n",
    "        E_new = np.apply_along_axis(obj_func, axis = 1, arr = P_new_star)\n",
    "        P = np.vstack([P, P_new_star])\n",
    "        E = np.append(E, E_new)\n",
    "        \n",
    "    return P[E.argmax()], E.max()"
   ]
  },
  {
   "cell_type": "code",
   "execution_count": 10,
   "id": "f507d5aa",
   "metadata": {
    "scrolled": false
   },
   "outputs": [
    {
     "name": "stdout",
     "output_type": "stream",
     "text": [
      "(array([62.        ,  0.17392454, 21.        ]), 0.7896206056387052)\n"
     ]
    }
   ],
   "source": [
    "print(main(100, 100, 10, 50))"
   ]
  }
 ],
 "metadata": {
  "kernelspec": {
   "display_name": "Python 3",
   "language": "python",
   "name": "python3"
  },
  "language_info": {
   "codemirror_mode": {
    "name": "ipython",
    "version": 3
   },
   "file_extension": ".py",
   "mimetype": "text/x-python",
   "name": "python",
   "nbconvert_exporter": "python",
   "pygments_lexer": "ipython3",
   "version": "3.8.8"
  }
 },
 "nbformat": 4,
 "nbformat_minor": 5
}
