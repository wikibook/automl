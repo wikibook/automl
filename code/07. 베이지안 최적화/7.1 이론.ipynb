{
 "cells": [
  {
   "cell_type": "markdown",
   "id": "d5d303cb",
   "metadata": {},
   "source": [
    "#### 샘플러 및 대체모델 학습 실습"
   ]
  },
  {
   "cell_type": "code",
   "execution_count": 65,
   "id": "dbc0bd46",
   "metadata": {},
   "outputs": [],
   "source": [
    "import numpy as np\n",
    "def obj_func(x):\n",
    "    return x[0] ** 2 * np.sin(5 * np.pi * (-x[0] + 2 * x[1]))"
   ]
  },
  {
   "cell_type": "code",
   "execution_count": 66,
   "id": "256003f4",
   "metadata": {},
   "outputs": [],
   "source": [
    "def sampler(n):\n",
    "    return np.random.random((n, 2))"
   ]
  },
  {
   "cell_type": "code",
   "execution_count": 67,
   "id": "0fbec0fa",
   "metadata": {},
   "outputs": [],
   "source": [
    "X = sampler(100)\n",
    "y = np.apply_along_axis(obj_func, axis = 1, arr = X)"
   ]
  },
  {
   "cell_type": "code",
   "execution_count": 135,
   "id": "5bb2368f",
   "metadata": {},
   "outputs": [],
   "source": [
    "from sklearn.gaussian_process import GaussianProcessRegressor as GPR\n",
    "from sklearn.gaussian_process.kernels import RBF, WhiteKernel\n",
    "model = GPR(kernel=RBF() + WhiteKernel(), random_state=2022).fit(X, y)"
   ]
  },
  {
   "cell_type": "markdown",
   "id": "df4aee54",
   "metadata": {},
   "source": [
    "### 획득 함수"
   ]
  },
  {
   "cell_type": "markdown",
   "id": "0dc5db87",
   "metadata": {},
   "source": [
    "#### 개선 확률 함수"
   ]
  },
  {
   "cell_type": "code",
   "execution_count": 136,
   "id": "fdb5eb8d",
   "metadata": {},
   "outputs": [],
   "source": [
    "from scipy.stats import norm\n",
    "def POI(X_new, model, best_mu):\n",
    "    mu, sigma = model.predict(X_new, return_std = True)\n",
    "    output = norm.cdf((mu-best_mu)/(sigma + 0.0000000001))\n",
    "    return output"
   ]
  },
  {
   "cell_type": "code",
   "execution_count": 137,
   "id": "941567ba",
   "metadata": {},
   "outputs": [
    {
     "name": "stdout",
     "output_type": "stream",
     "text": [
      "25\n"
     ]
    }
   ],
   "source": [
    "best_mu = max(model.predict(X))\n",
    "X_new = sampler(100)\n",
    "score_list = POI(X_new, model, best_mu)\n",
    "print(score_list.argmax())"
   ]
  },
  {
   "cell_type": "markdown",
   "id": "8cc39a0c",
   "metadata": {},
   "source": [
    "#### 개선 기대 함수"
   ]
  },
  {
   "cell_type": "code",
   "execution_count": 138,
   "id": "998c17e9",
   "metadata": {},
   "outputs": [],
   "source": [
    "def EI(X_new, model, best_mu, e = 0.01):\n",
    "    mu, sigma = model.predict(X_new, return_std = True)\n",
    "    z = np.zeros(len(X_new))\n",
    "    z[sigma > 0] = ((mu - best_mu - e) / sigma)[sigma > 0]\n",
    "    return (mu - best_mu - e) * norm.cdf(z) + sigma * norm.pdf(z)"
   ]
  },
  {
   "cell_type": "code",
   "execution_count": 139,
   "id": "b5dbf783",
   "metadata": {
    "scrolled": true
   },
   "outputs": [
    {
     "name": "stdout",
     "output_type": "stream",
     "text": [
      "54\n"
     ]
    }
   ],
   "source": [
    "best_mu = max(model.predict(X))\n",
    "X_new = sampler(100)\n",
    "score_list = EI(X_new, model, best_mu)\n",
    "print(score_list.argmax())"
   ]
  },
  {
   "cell_type": "markdown",
   "id": "ed326162",
   "metadata": {},
   "source": [
    "### 메인"
   ]
  },
  {
   "cell_type": "code",
   "execution_count": 140,
   "id": "71aa843d",
   "metadata": {},
   "outputs": [],
   "source": [
    "def main(n, num_iter):\n",
    "    X = sampler(n)\n",
    "    y = np.apply_along_axis(obj_func, axis = 1, arr = X)\n",
    "    \n",
    "    for _ in range(num_iter):\n",
    "        model = GPR(kernel=RBF() + WhiteKernel(), random_state=2022).fit(X, y)\n",
    "        best_mu = max(model.predict(X))\n",
    "        X_new = sampler(n)\n",
    "        score_list = EI(X_new, model, best_mu)\n",
    "        x_new = X_new[score_list.argmax()]\n",
    "        y_new = obj_func(x_new)\n",
    "        X = np.vstack([X, x_new])\n",
    "        y = np.append(y, y_new)\n",
    "        \n",
    "    return X[y.argmax()], y.max()"
   ]
  },
  {
   "cell_type": "code",
   "execution_count": 142,
   "id": "3cd440bb",
   "metadata": {},
   "outputs": [
    {
     "name": "stdout",
     "output_type": "stream",
     "text": [
      "(array([0.99161018, 0.7484802 ]), 0.9798203596022771)\n"
     ]
    }
   ],
   "source": [
    "print(main(100, 100))"
   ]
  }
 ],
 "metadata": {
  "kernelspec": {
   "display_name": "Python 3",
   "language": "python",
   "name": "python3"
  },
  "language_info": {
   "codemirror_mode": {
    "name": "ipython",
    "version": 3
   },
   "file_extension": ".py",
   "mimetype": "text/x-python",
   "name": "python",
   "nbconvert_exporter": "python",
   "pygments_lexer": "ipython3",
   "version": "3.8.8"
  }
 },
 "nbformat": 4,
 "nbformat_minor": 5
}
